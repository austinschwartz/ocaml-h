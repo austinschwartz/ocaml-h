{
 "cells": [
  {
   "cell_type": "markdown",
   "metadata": {},
   "source": [
    "1. Explain in your own words how fold functions exemplify the Abstraction Principle.\n",
    "\n"
   ]
  },
  {
   "cell_type": "markdown",
   "metadata": {},
   "source": [
    "2. For each of the following, is map, filter, or fold more appropriate?\n",
    "\n",
    "- rounding each element of a float list to the nearest integer\n",
    "Map\n",
    "\n",
    "- changing a list of characters into a string that has those same characters in the same order\n",
    "Fold\n",
    "\n",
    "- find the elements of a list that are between 90 and 100, inclusive\n",
    "Filter\n",
    "\n",
    "- finding the maximum of a list of integers\n",
    "Fold\n",
    "\n",
    "- truncating each string in a list to at most 5 characters long and replacing the rest of the characters with an ellipsis\n",
    "Map\n"
   ]
  },
  {
   "cell_type": "markdown",
   "metadata": {},
   "source": [
    "3. Do the exercises named repeat, sum_cube_odd, exists, uncurry, curry, and tree map."
   ]
  },
  {
   "cell_type": "code",
   "execution_count": 18,
   "metadata": {},
   "outputs": [
    {
     "data": {
      "text/plain": [
       "val repeat : ('a -> 'a) -> int -> 'a -> 'a = <fun>\n"
      ]
     },
     "execution_count": 18,
     "metadata": {},
     "output_type": "execute_result"
    },
    {
     "data": {
      "text/plain": [
       "val repeat : ('a -> 'a) -> int -> 'a -> 'a = <fun>\n"
      ]
     },
     "execution_count": 18,
     "metadata": {},
     "output_type": "execute_result"
    },
    {
     "data": {
      "text/plain": [
       "val inc : int -> int = <fun>\n"
      ]
     },
     "execution_count": 18,
     "metadata": {},
     "output_type": "execute_result"
    },
    {
     "data": {
      "text/plain": [
       "- : int = 1\n"
      ]
     },
     "execution_count": 18,
     "metadata": {},
     "output_type": "execute_result"
    },
    {
     "data": {
      "text/plain": [
       "- : int = 2\n"
      ]
     },
     "execution_count": 18,
     "metadata": {},
     "output_type": "execute_result"
    },
    {
     "data": {
      "text/plain": [
       "- : int = 4\n"
      ]
     },
     "execution_count": 18,
     "metadata": {},
     "output_type": "execute_result"
    }
   ],
   "source": [
    "(* Exercise: repeat [✭✭]\n",
    "\n",
    "Generalize twice to a function repeat, such that repeat f n x applies f to x a total of n times. \n",
    "That is,\n",
    "    repeat f 0 x yields x\n",
    "    repeat f 1 x yields f x\n",
    "    repeat f 2 x yields f (f x) (which is the same as twice f x)\n",
    "    repeat f 3 x yields f (f (f x))\n",
    "    ...\n",
    " *)\n",
    " \n",
    "let rec repeat f n x =\n",
    "    if n = 0 then x\n",
    "    else repeat f (n - 1) (f x);;\n",
    "    \n",
    "let rec repeat f n x =\n",
    "    match n with\n",
    "    | 0 -> x\n",
    "    | _ -> repeat f (n - 1) (f x);;\n",
    "    \n",
    "let inc x = x + 1;;\n",
    "repeat inc 0 1;;\n",
    "repeat inc 1 1;;\n",
    "repeat inc 3 1;;"
   ]
  },
  {
   "cell_type": "code",
   "execution_count": 50,
   "metadata": {},
   "outputs": [
    {
     "data": {
      "text/plain": [
       "val odd : int -> bool = <fun>\n"
      ]
     },
     "execution_count": 50,
     "metadata": {},
     "output_type": "execute_result"
    },
    {
     "data": {
      "text/plain": [
       "val ( -- ) : int -> int -> int list = <fun>\n"
      ]
     },
     "execution_count": 50,
     "metadata": {},
     "output_type": "execute_result"
    },
    {
     "data": {
      "text/plain": [
       "val sum_cube_odd : int -> int = <fun>\n"
      ]
     },
     "execution_count": 50,
     "metadata": {},
     "output_type": "execute_result"
    },
    {
     "data": {
      "text/plain": [
       "- : int = 153\n"
      ]
     },
     "execution_count": 50,
     "metadata": {},
     "output_type": "execute_result"
    }
   ],
   "source": [
    "(* Exercise: sum_cube_odd [✭✭]\n",
    "\n",
    "Write a function sum_cube_odd n that computes the sum of the cubes of all the odd numbers \n",
    "between 0 and n inclusive. Do not write any new recursive functions. Instead, use the \n",
    "functionals map, fold, and filter, and the (--) operator (defined in the discussion of fold left vs. fold right). *)\n",
    "\n",
    "let odd n = \n",
    "  n mod 2 <> 0;;\n",
    "  \n",
    "let (--) i j =\n",
    "  let rec from i j l =\n",
    "    if i>j then l\n",
    "    else from i (j-1) (j::l)\n",
    "    in from i j [];;\n",
    "    \n",
    "let sum_cube_odd n =\n",
    "    0--n\n",
    "    |> List.filter odd\n",
    "    |> List.map (fun x -> x * x * x)\n",
    "    |> List.fold_left (fun x acc -> x + acc) 0;;\n",
    "\n",
    "sum_cube_odd 5;;"
   ]
  },
  {
   "cell_type": "code",
   "execution_count": 70,
   "metadata": {},
   "outputs": [
    {
     "data": {
      "text/plain": [
       "val exists_rec : 'a list -> 'a -> bool = <fun>\n"
      ]
     },
     "execution_count": 70,
     "metadata": {},
     "output_type": "execute_result"
    },
    {
     "data": {
      "text/plain": [
       "val exists_fold : 'a list -> 'a -> bool = <fun>\n"
      ]
     },
     "execution_count": 70,
     "metadata": {},
     "output_type": "execute_result"
    },
    {
     "data": {
      "text/plain": [
       "val exists_lib : 'a list -> 'a -> bool = <fun>\n"
      ]
     },
     "execution_count": 70,
     "metadata": {},
     "output_type": "execute_result"
    },
    {
     "data": {
      "text/plain": [
       "val exists_lib : 'a list -> 'a -> bool = <fun>\n"
      ]
     },
     "execution_count": 70,
     "metadata": {},
     "output_type": "execute_result"
    },
    {
     "data": {
      "text/plain": [
       "- : bool = true\n"
      ]
     },
     "execution_count": 70,
     "metadata": {},
     "output_type": "execute_result"
    },
    {
     "data": {
      "text/plain": [
       "- : bool = false\n"
      ]
     },
     "execution_count": 70,
     "metadata": {},
     "output_type": "execute_result"
    },
    {
     "data": {
      "text/plain": [
       "- : bool = true\n"
      ]
     },
     "execution_count": 70,
     "metadata": {},
     "output_type": "execute_result"
    },
    {
     "data": {
      "text/plain": [
       "- : bool = false\n"
      ]
     },
     "execution_count": 70,
     "metadata": {},
     "output_type": "execute_result"
    },
    {
     "data": {
      "text/plain": [
       "- : bool = true\n"
      ]
     },
     "execution_count": 70,
     "metadata": {},
     "output_type": "execute_result"
    },
    {
     "data": {
      "text/plain": [
       "- : bool = false\n"
      ]
     },
     "execution_count": 70,
     "metadata": {},
     "output_type": "execute_result"
    }
   ],
   "source": [
    "(* Exercise: exists [✭✭]\n",
    "\n",
    "Consider writing a function exists: ('a -> bool) -> 'a list -> bool, \n",
    "such that exists p [a1; ...; an] returns whether at least one element of the list \n",
    "satisfies the predicate p. That is, it evaluates the same as (p a1) || (p a2) || ... || (p an). \n",
    "When applied to an empty list, it evaluates to false.\n",
    "\n",
    "Write three solutions to this problem, as we did above:\n",
    "\n",
    "    - exists_rec, which must be a recursive function that does not use the List module,\n",
    "    - exists_fold, which uses either List.fold_left or List.fold_right, but not any other \n",
    "      List module functions nor the rec keyword, and\n",
    "    - exists_lib, which uses any combination of List module functions other than fold_left or fold_right, \n",
    "      and does not use the rec keyword.\n",
    " *)\n",
    " \n",
    "let exists_rec lst num = \n",
    "    match lst with\n",
    "    | [] -> false\n",
    "    | h::t -> if h = num then true\n",
    "              else exists_rec t num;;\n",
    "\n",
    "let exists_fold lst num = List.fold_left \n",
    "                            (fun acc x -> acc || (x = num)) false \n",
    "                            lst;;\n",
    "                            \n",
    "let exists_lib lst num = \n",
    "    lst \n",
    "    |> List.exists (fun x -> x = num);;\n",
    "\n",
    "let exists_lib lst num = \n",
    "    lst \n",
    "    |> List.filter (fun x -> x = num)\n",
    "    |> List.length > 0;;\n",
    "\n",
    "exists_rec [1; 2; 3;] 2;;\n",
    "exists_rec [1; 2; 3;] 5;;\n",
    "\n",
    "exists_fold [1; 2; 3;] 2;;\n",
    "exists_fold [1; 2; 3;] 5;;\n",
    "\n",
    "exists_lib [1; 2; 3;] 2;;\n",
    "exists_lib [1; 2; 3;] 5;;\n"
   ]
  },
  {
   "cell_type": "code",
   "execution_count": 103,
   "metadata": {},
   "outputs": [
    {
     "data": {
      "text/plain": [
       "val uncurry : ('a -> 'b -> 'c) -> 'a * 'b -> 'c = <fun>\n"
      ]
     },
     "execution_count": 103,
     "metadata": {},
     "output_type": "execute_result"
    },
    {
     "data": {
      "text/plain": [
       "val add : int -> int -> int = <fun>\n"
      ]
     },
     "execution_count": 103,
     "metadata": {},
     "output_type": "execute_result"
    },
    {
     "data": {
      "text/plain": [
       "- : int * int -> int = <fun>\n"
      ]
     },
     "execution_count": 103,
     "metadata": {},
     "output_type": "execute_result"
    },
    {
     "data": {
      "text/plain": [
       "- : int = 11\n"
      ]
     },
     "execution_count": 103,
     "metadata": {},
     "output_type": "execute_result"
    }
   ],
   "source": [
    "(* Exercise: uncurry [✭✭]\n",
    "\n",
    "Write a function uncurry that takes in a curried function and returns the \n",
    "uncurried version of that function. Remember that curried functions have types \n",
    "like 'a -> 'b -> 'c, and the corresponding uncurried function will have the type \n",
    "'a * 'b -> 'c. Therefore uncurry should have the folowing type:\n",
    "\n",
    "val uncurry : ('a -> 'b -> 'c) -> 'a * 'b -> 'c\n",
    " *)\n",
    " \n",
    "let uncurry f (x, y) = f x y;;\n",
    "\n",
    "let add x y = x + y;;\n",
    "\n",
    "uncurry add;;\n",
    "uncurry add (5, 6);;"
   ]
  },
  {
   "cell_type": "code",
   "execution_count": 104,
   "metadata": {},
   "outputs": [
    {
     "data": {
      "text/plain": [
       "val curry : ('a * 'b -> 'c) -> 'a -> 'b -> 'c = <fun>\n"
      ]
     },
     "execution_count": 104,
     "metadata": {},
     "output_type": "execute_result"
    },
    {
     "data": {
      "text/plain": [
       "val add'' : int * int -> int = <fun>\n"
      ]
     },
     "execution_count": 104,
     "metadata": {},
     "output_type": "execute_result"
    },
    {
     "data": {
      "text/plain": [
       "- : int = 11\n"
      ]
     },
     "execution_count": 104,
     "metadata": {},
     "output_type": "execute_result"
    }
   ],
   "source": [
    "(* Exercise: curry [✭✭]\n",
    "\n",
    "Write the inverse function curry. It should have the following type:\n",
    "\n",
    "val curry : ('a * 'b -> 'c) -> 'a -> 'b -> 'c\n",
    " *)\n",
    "\n",
    "let curry f x y = f(x,y);;\n",
    "    \n",
    "let add'' (x,y) = x + y;;\n",
    " \n",
    "curry add'' 5 6;;"
   ]
  },
  {
   "cell_type": "code",
   "execution_count": 29,
   "metadata": {},
   "outputs": [
    {
     "data": {
      "text/plain": [
       "type 'a tree = Leaf | Node of 'a * 'a tree * 'a tree\n"
      ]
     },
     "execution_count": 29,
     "metadata": {},
     "output_type": "execute_result"
    },
    {
     "data": {
      "text/plain": [
       "val a : int tree =\n",
       "  Node (4, Node (2, Leaf, Leaf), Node (5, Node (6, Leaf, Leaf), Leaf))\n"
      ]
     },
     "execution_count": 29,
     "metadata": {},
     "output_type": "execute_result"
    },
    {
     "data": {
      "text/plain": [
       "val tree_map : ('a -> 'b) -> 'a tree -> 'b tree = <fun>\n"
      ]
     },
     "execution_count": 29,
     "metadata": {},
     "output_type": "execute_result"
    },
    {
     "data": {
      "text/plain": [
       "val b : int tree =\n",
       "  Node (5, Node (3, Leaf, Leaf), Node (6, Node (7, Leaf, Leaf), Leaf))\n"
      ]
     },
     "execution_count": 29,
     "metadata": {},
     "output_type": "execute_result"
    }
   ],
   "source": [
    "(* Exercise: tree map [✭✭✭]\n",
    "\n",
    "Using the following defintion of tree:\n",
    "\n",
    "type 'a tree = \n",
    "| Leaf \n",
    "| Node of 'a * 'a tree * 'a tree\n",
    "\n",
    "Write a function tree_map : ('a -> 'b) -> 'a tree -> 'b tree that applies a function to every node of a tree, \n",
    "just like List.map applies a function to every element of a list.\n",
    "\n",
    "Use your tree_map function to implement a function add1 : int tree -> int tree that \n",
    "increments every node in an int tree. *)\n",
    "\n",
    "type 'a tree = \n",
    "    | Leaf \n",
    "    | Node of 'a * 'a tree * 'a tree\n",
    "    \n",
    "(* the code below constructs this tree:\n",
    "         4\n",
    "       /   \\\n",
    "      2     5\n",
    "           /\n",
    "          6\n",
    "*)\n",
    "let a = \n",
    "  Node(4,\n",
    "    Node(2, Leaf, Leaf),\n",
    "    Node(5,\n",
    "      Node(6,Leaf,Leaf),\n",
    "      Leaf\n",
    "    )\n",
    "  );;\n",
    "\n",
    "let rec tree_map f = function\n",
    "    | Leaf -> Leaf\n",
    "    | Node(v, l, r) -> Node(f v, \n",
    "                        tree_map f l,\n",
    "                        tree_map f r)\n",
    "    ;;\n",
    "let b = tree_map inc a;;"
   ]
  },
  {
   "cell_type": "markdown",
   "metadata": {},
   "source": [
    "4. For extra challenge, do valid matrix, row vector add, and matrix add."
   ]
  },
  {
   "cell_type": "code",
   "execution_count": 96,
   "metadata": {},
   "outputs": [
    {
     "data": {
      "text/plain": [
       "val is_valid_matrix : 'a list list -> bool = <fun>\n"
      ]
     },
     "execution_count": 96,
     "metadata": {},
     "output_type": "execute_result"
    },
    {
     "data": {
      "text/plain": [
       "- : bool = true\n"
      ]
     },
     "execution_count": 96,
     "metadata": {},
     "output_type": "execute_result"
    },
    {
     "data": {
      "text/plain": [
       "- : bool = false\n"
      ]
     },
     "execution_count": 96,
     "metadata": {},
     "output_type": "execute_result"
    },
    {
     "data": {
      "text/plain": [
       "- : bool = false\n"
      ]
     },
     "execution_count": 96,
     "metadata": {},
     "output_type": "execute_result"
    }
   ],
   "source": [
    "(* Exercise: valid matrix [✭✭✭]\n",
    "\n",
    "A mathematical matrix can be represented with lists. In row-major representation, this matrix\n",
    "\n",
    "⎢1 1 1\n",
    "9 8 7⎤\n",
    "\n",
    "would be represented as the list [ [1; 1; 1]; [9; 8; 7] ]. \n",
    "Let's represent a row vector as an int list. For example, [9; 8; 7] is a row vector.\n",
    "\n",
    "A valid matrix is an int list list that has at least one row, at least one column, \n",
    "and in which every column has the same number of rows. There are many values of type \n",
    "int list list that are invalid, for example,\n",
    "\n",
    "    []\n",
    "    [ [1;2]; [3] ]\n",
    "\n",
    "Implement a function is_valid_matrix: int list list -> bool that \n",
    "returns whether the input matrix is valid. Unit test the function.\n",
    "*)\n",
    "\n",
    "let is_valid_matrix m =\n",
    "    if List.length m = 0 then false\n",
    "    else let row_len = List.length (List.nth m 1) in\n",
    "    List.for_all (fun row -> List.length row = row_len) m\n",
    "    ;;\n",
    "\n",
    "is_valid_matrix [ [1; 1; 1]; [9; 8; 7] ];;\n",
    "is_valid_matrix [ [1; 1; 1]; [9; 8] ];;\n",
    "is_valid_matrix [ ];;"
   ]
  },
  {
   "cell_type": "code",
   "execution_count": 121,
   "metadata": {},
   "outputs": [
    {
     "data": {
      "text/plain": [
       "val add_row_vectors : int list -> int list -> int list = <fun>\n"
      ]
     },
     "execution_count": 121,
     "metadata": {},
     "output_type": "execute_result"
    },
    {
     "data": {
      "text/plain": [
       "- : unit = ()\n"
      ]
     },
     "execution_count": 121,
     "metadata": {},
     "output_type": "execute_result"
    }
   ],
   "source": [
    "(* Exercise: row vector add [✭✭✭]\n",
    "\n",
    "Implement a function add_row_vectors: int list -> int list -> int list \n",
    "for the element-wise addition of two row vectors. For example, the addition \n",
    "of [1; 1; 1] and [9; 8; 7] is [10; 9; 8]. If the two vectors do not have the \n",
    "same number of entries, the behavior of your function is unspecified—that is, \n",
    "it may do whatever you like. Hint: there is an elegant one-line solution using \n",
    "List.map2. Unit test the function. *)\n",
    "\n",
    "let add_row_vectors a b = \n",
    "    List.map2 (fun a b -> a + b) a b;;\n",
    "\n",
    "assert ((add_row_vectors [1; 1; 1] [9; 8; 7]) = [10; 9; 8]);;"
   ]
  },
  {
   "cell_type": "code",
   "execution_count": 126,
   "metadata": {},
   "outputs": [
    {
     "data": {
      "text/plain": [
       "val add_matrices : int list list -> int list list -> int list list = <fun>\n"
      ]
     },
     "execution_count": 126,
     "metadata": {},
     "output_type": "execute_result"
    },
    {
     "data": {
      "text/plain": [
       "- : unit = ()\n"
      ]
     },
     "execution_count": 126,
     "metadata": {},
     "output_type": "execute_result"
    }
   ],
   "source": [
    "(* Exercise: matrix add [✭✭✭, advanced]\n",
    "\n",
    "Implement a function add_matrices: int list list -> int list list -> int list list\n",
    "for matrix addition. If the two input matrices are not the same size, the behavior\n",
    "is unspecified. Hint: there is an elegant one-line solution using List.map2 and \n",
    "add_row_vectors. Unit test the function. *)\n",
    "\n",
    "let add_matrices a b =\n",
    "    List.map2 (fun aa bb -> add_row_vectors aa bb) a b;;\n",
    "\n",
    "assert ((add_matrices [[1; 1; 1]; [9; 8; 7]] [[0; -5; 6]; [2; 1; 3]]) = [[1; -4; 7]; [11; 9; 10]]);;"
   ]
  },
  {
   "cell_type": "code",
   "execution_count": null,
   "metadata": {},
   "outputs": [],
   "source": []
  }
 ],
 "metadata": {
  "kernelspec": {
   "display_name": "OCaml default",
   "language": "OCaml",
   "name": "ocaml-jupyter"
  },
  "language_info": {
   "codemirror_mode": "text/x-ocaml",
   "file_extension": ".ml",
   "mimetype": "text/x-ocaml",
   "name": "OCaml",
   "nbconverter_exporter": null,
   "pygments_lexer": "OCaml",
   "version": "4.08.1"
  }
 },
 "nbformat": 4,
 "nbformat_minor": 4
}
