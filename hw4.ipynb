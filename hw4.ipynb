{
 "cells": [
  {
   "cell_type": "markdown",
   "metadata": {},
   "source": [
    "1. Using the function keyword as an example, explain what syntactic sugar is. Demonstrate how that keyword can be used to improve a piece of code.\n",
    "\n",
    "Answer: Syntactic sugar takes an existing way of doing something in a language and provides a new, perhaps easier, syntax for doing that thing.\n",
    "\n",
    "e.g. in c \"a[i]\" is syntactic sugar for \"*(a + i)\""
   ]
  },
  {
   "cell_type": "markdown",
   "metadata": {},
   "source": [
    "2. Pattern matching is probably unlike any language features you've encountered before. Summarize your current understanding of what pattern matching is, why it is useful, and what you might be confused about regarding it at this time. Consider asking about any confusions in your discussion section or its chatroom on Campuswire.\n",
    "\n",
    "Answer: Allows you to break apart a structure and effectively do a switch statement on if the structure matches specific patterns\n"
   ]
  },
  {
   "cell_type": "markdown",
   "metadata": {},
   "source": [
    "3. Do the exercises named date before, pokerecord, product, library, and take drop.\n"
   ]
  },
  {
   "cell_type": "code",
   "execution_count": 106,
   "metadata": {},
   "outputs": [
    {
     "data": {
      "text/plain": [
       "val is_before : 'a * 'b * 'c -> 'a * 'b * 'c -> bool = <fun>\n"
      ]
     },
     "execution_count": 106,
     "metadata": {},
     "output_type": "execute_result"
    },
    {
     "data": {
      "text/plain": [
       "- : bool = false\n"
      ]
     },
     "execution_count": 106,
     "metadata": {},
     "output_type": "execute_result"
    },
    {
     "data": {
      "text/plain": [
       "- : bool = true\n"
      ]
     },
     "execution_count": 106,
     "metadata": {},
     "output_type": "execute_result"
    },
    {
     "data": {
      "text/plain": [
       "- : bool = false\n"
      ]
     },
     "execution_count": 106,
     "metadata": {},
     "output_type": "execute_result"
    },
    {
     "data": {
      "text/plain": [
       "- : bool = true\n"
      ]
     },
     "execution_count": 106,
     "metadata": {},
     "output_type": "execute_result"
    }
   ],
   "source": [
    "(* date before *)\n",
    "(* Define a date-like triple to be a value of type int*int*int. \n",
    "Examples of date-like triples include (2013, 2, 1) and (0,0,1000). \n",
    "A date is a date-like triple whose first part is a positive year \n",
    "(i.e., a year in the common era), second part is a month between 1 and 12, \n",
    "and third part is a day between 1 and 31 (or 30, 29, or 28, depending on \n",
    "the month and year). (2013, 2, 1) is a date; (0,0,1000) is not.\n",
    "\n",
    "Write a function is_before that takes two dates as input and \n",
    "evaluates to true or false. It evaluates to true if the first argument \n",
    "is a date that comes before the second argument. (If the two dates \n",
    "are the same, the result is false.) \n",
    "\n",
    "Your function needs to work correctly only for dates, not for \n",
    "arbitrary date-like triples. However, you will probably find it \n",
    "easier to write your solution if you think about making it work \n",
    "for arbitrary date-like triples. For example, it's easier to forget \n",
    "about whether the input is truly a date, and simply write a function \n",
    "that claims (for example) that January 100, 2013 comes before February 34, \n",
    "2013—because any date in January comes before any date in February, but a \n",
    "function that says that January 100, 2013 comes after February 34, 2013 is \n",
    "also valid. You may ignore leap years. *)\n",
    "\n",
    "let is_before date1 date2 =\n",
    "    let y1, m1, d1 = date1 in\n",
    "    let y2, m2, d2 = date2 in\n",
    "    if y1 < y2 then true else\n",
    "    if y1 > y2 then false else\n",
    "    if m1 < m2 then true else\n",
    "    if m1 > m2 then false else\n",
    "    if d1 < d2 then true else\n",
    "    if d2 > d2 then false else\n",
    "    false;;\n",
    "    \n",
    "is_before (2013, 2, 1) (0, 0, 1000);;\n",
    "is_before (0, 0, 1000) (2013, 2, 1);;\n",
    "is_before (2020, 8, 30) (2020, 8, 29);;\n",
    "is_before (2020, 8, 30) (2020, 8, 31);;"
   ]
  },
  {
   "cell_type": "code",
   "execution_count": 95,
   "metadata": {},
   "outputs": [
    {
     "data": {
      "text/plain": [
       "type poketype = Normal | Fire | Water\n"
      ]
     },
     "execution_count": 95,
     "metadata": {},
     "output_type": "execute_result"
    },
    {
     "data": {
      "text/plain": [
       "type pokemon = { name : string; hp : int; ptype : poketype; }\n"
      ]
     },
     "execution_count": 95,
     "metadata": {},
     "output_type": "execute_result"
    },
    {
     "data": {
      "text/plain": [
       "val charizard : pokemon = {name = \"Charizard\"; hp = 78; ptype = Fire}\n"
      ]
     },
     "execution_count": 95,
     "metadata": {},
     "output_type": "execute_result"
    },
    {
     "data": {
      "text/plain": [
       "val squirtle : pokemon = {name = \"Squirtle\"; hp = 44; ptype = Water}\n"
      ]
     },
     "execution_count": 95,
     "metadata": {},
     "output_type": "execute_result"
    }
   ],
   "source": [
    "(* pokerecord *)\n",
    "type poketype = Normal | Fire | Water\n",
    "\n",
    "(* Define the type pokemon to be a record with fields name (a string), hp (an integer), and ptype (a poketype). *)\n",
    "type pokemon = {\n",
    "    name: string;\n",
    "    hp: int;\n",
    "    ptype: poketype;\n",
    "};;\n",
    "\n",
    "(* Create a record named charizard of type pokemon that represents a Pokémon with 78 HP and Fire type. *)\n",
    "let charizard = {name = \"Charizard\"; hp = 78; ptype = Fire};;\n",
    "\n",
    "(* Create a record named squirtle of type pokemon that represents a Pokémon with 44 HP and Water type. *)\n",
    "let squirtle = {name = \"Squirtle\"; hp = 44; ptype = Water};;"
   ]
  },
  {
   "cell_type": "code",
   "execution_count": 107,
   "metadata": {},
   "outputs": [
    {
     "data": {
      "text/plain": [
       "val product : int list -> int = <fun>\n"
      ]
     },
     "execution_count": 107,
     "metadata": {},
     "output_type": "execute_result"
    },
    {
     "data": {
      "text/plain": [
       "- : int = 6\n"
      ]
     },
     "execution_count": 107,
     "metadata": {},
     "output_type": "execute_result"
    },
    {
     "data": {
      "text/plain": [
       "- : int = 5\n"
      ]
     },
     "execution_count": 107,
     "metadata": {},
     "output_type": "execute_result"
    },
    {
     "data": {
      "text/plain": [
       "- : int = 1\n"
      ]
     },
     "execution_count": 107,
     "metadata": {},
     "output_type": "execute_result"
    }
   ],
   "source": [
    "(* product *)\n",
    "let rec product lst =\n",
    "    match lst with\n",
    "    | [] -> 1\n",
    "    | h::t -> h * product t;;\n",
    "product [1; 2; 3];;\n",
    "product [5;];;\n",
    "product [];;"
   ]
  },
  {
   "cell_type": "code",
   "execution_count": 71,
   "metadata": {},
   "outputs": [
    {
     "data": {
      "text/plain": [
       "val f : int list -> int = <fun>\n"
      ]
     },
     "execution_count": 71,
     "metadata": {},
     "output_type": "execute_result"
    },
    {
     "data": {
      "text/plain": [
       "- : int = 5\n"
      ]
     },
     "execution_count": 71,
     "metadata": {},
     "output_type": "execute_result"
    },
    {
     "data": {
      "text/plain": [
       "val f : 'a list -> 'a list = <fun>\n"
      ]
     },
     "execution_count": 71,
     "metadata": {},
     "output_type": "execute_result"
    },
    {
     "data": {
      "text/plain": [
       "- : int list = [4; 3; 2; 1]\n"
      ]
     },
     "execution_count": 71,
     "metadata": {},
     "output_type": "execute_result"
    }
   ],
   "source": [
    "(* library *)\n",
    "\n",
    "(*\n",
    "Write a function that takes an int list and returns the fifth element of that list, \n",
    "if such an element exists. If the list has fewer than five elements, return 0. Hint: List.length and List.nth.\n",
    "*)\n",
    "\n",
    "let f lst = \n",
    "    let ret = if List.length lst < 5 then 0 else List.nth lst 4 in\n",
    "    ret;;\n",
    "f [1; 2; 3; 4; 5;];;\n",
    "\n",
    "\n",
    "(* Write a function that takes an int list and returns the list sorted in descending order. \n",
    "Hint: List.sort with Stdlib.compare as its first argument, and List.rev.\n",
    "*)\n",
    "\n",
    "let f lst = let ret = List.sort Stdlib.compare lst in\n",
    "    List.rev ret;;\n",
    "\n",
    "f [2; 3; 1; 4];;"
   ]
  },
  {
   "cell_type": "code",
   "execution_count": 110,
   "metadata": {},
   "outputs": [
    {
     "data": {
      "text/plain": [
       "val take : int -> 'a list -> 'a list = <fun>\n"
      ]
     },
     "execution_count": 110,
     "metadata": {},
     "output_type": "execute_result"
    },
    {
     "data": {
      "text/plain": [
       "- : int list = [1; 2; 3]\n"
      ]
     },
     "execution_count": 110,
     "metadata": {},
     "output_type": "execute_result"
    },
    {
     "data": {
      "text/plain": [
       "val drop : int -> 'a list -> 'a list = <fun>\n"
      ]
     },
     "execution_count": 110,
     "metadata": {},
     "output_type": "execute_result"
    },
    {
     "data": {
      "text/plain": [
       "- : int list = [3; 4; 5]\n"
      ]
     },
     "execution_count": 110,
     "metadata": {},
     "output_type": "execute_result"
    }
   ],
   "source": [
    "(* take drop *)\n",
    "\n",
    "(*Write a function take : int -> 'a list -> 'a list such that take n lst returns the \n",
    " first n elements of lst. If lst has fewer than n elements, return all of them. *)\n",
    "\n",
    "let take n lst = \n",
    "    if n = 0 then [] else\n",
    "    match lst with\n",
    "    | [] -> []\n",
    "    | h::t -> h::(take (n - 1) t);;\n",
    "\n",
    "take 3 [1; 2; 3; 4; 5;];;\n",
    "\n",
    "(* Write a function drop : int -> 'a list -> 'a list such that drop n lst returns\n",
    "all but the first n elements of lst. If lst has fewer than n elements, return the empty list. *)\n",
    "\n",
    "let drop n lst = \n",
    "    if List.length lst <= n then [] else\n",
    "    match lst with\n",
    "    | [] -> []\n",
    "    | h::t -> if n = 0 then h::t else drop (n - 1) (t);;\n",
    "\n",
    "drop 2 [1; 2; 3; 4; 5;];;"
   ]
  },
  {
   "cell_type": "markdown",
   "metadata": {},
   "source": [
    "4. As a challenge, also do powerset and take drop tail.\n"
   ]
  },
  {
   "cell_type": "code",
   "execution_count": 80,
   "metadata": {},
   "outputs": [
    {
     "data": {
      "text/plain": [
       "val powerset : 'a list -> 'a list list = <fun>\n"
      ]
     },
     "execution_count": 80,
     "metadata": {},
     "output_type": "execute_result"
    },
    {
     "data": {
      "text/plain": [
       "- : int list list = [[]; [3]; [2]; [2; 3]; [1]; [1; 3]; [1; 2]; [1; 2; 3]]\n"
      ]
     },
     "execution_count": 80,
     "metadata": {},
     "output_type": "execute_result"
    }
   ],
   "source": [
    "(* powerset *)\n",
    "(* Write a function powerset : int list -> int list list that takes a set S represented as a \n",
    "list and returns the set of all subsets of S. The order of subsets in the powerset and \n",
    "the order of elements in the subsets do not matter.\n",
    "\n",
    "Hint: Consider the recursive structure of this problem. \n",
    "Suppose you already have p, such that p = powerset s. How could you use p to compute powerset (x::s)? *)\n",
    "\n",
    "let rec powerset lst = \n",
    "    match lst with\n",
    "    | [] -> [[]]\n",
    "    | h::t -> \n",
    "        let sets = powerset t in\n",
    "        sets @ List.map (fun x -> h :: x) sets;;\n",
    "\n",
    "powerset [1; 2; 3];;"
   ]
  },
  {
   "cell_type": "code",
   "execution_count": null,
   "metadata": {},
   "outputs": [],
   "source": [
    "(* take drop tail *)\n",
    "(* Revise your solutions for take and drop to be tail recursive, if they aren't already.\n",
    "Test them on long lists with large values of n to see whether they run out of stack space. *)\n",
    "\n",
    "(* already wrote them tail recursive lol *)"
   ]
  }
 ],
 "metadata": {
  "kernelspec": {
   "display_name": "OCaml default",
   "language": "OCaml",
   "name": "ocaml-jupyter"
  },
  "language_info": {
   "codemirror_mode": "text/x-ocaml",
   "file_extension": ".ml",
   "mimetype": "text/x-ocaml",
   "name": "OCaml",
   "nbconverter_exporter": null,
   "pygments_lexer": "OCaml",
   "version": "4.08.1"
  }
 },
 "nbformat": 4,
 "nbformat_minor": 4
}
