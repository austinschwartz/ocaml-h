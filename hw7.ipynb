{
 "cells": [
  {
   "cell_type": "markdown",
   "metadata": {},
   "source": [
    "1. The textbook mentions namespaces and encapsulation as two of the features that module systems can provide. How does the OCaml module system provide these features?\n",
    "\n",
    "Modules allow you to hide values by not exposing them in the signature, i.e. in the following `g` and `h` are essentially private, since they arent exposed.\n",
    "\n",
    "```ocaml\n",
    "module type A = sig\n",
    "  type t\n",
    "  val f : t -> t -> t\n",
    "end\n",
    "\n",
    "module MyA : a = struct\n",
    "    type t = Num of int\n",
    "    let g = ...\n",
    "    let h = ...\n",
    "    let f x = ...\n",
    "end\n",
    "```\n",
    "\n",
    "Namespaces are pretty obvious\n",
    "\n",
    "```ocaml\n",
    "module type A = sig\n",
    "    type t = int\n",
    "    val f = ...\n",
    "end\n",
    "\n",
    "module type B = sig\n",
    "    type t = int\n",
    "    val f = ...\n",
    "end\n",
    "```\n",
    "\n",
    "Both of these have a val f, but they're scoped to the parent module, e.g. `A.f` and `B.f`\n"
   ]
  },
  {
   "cell_type": "markdown",
   "metadata": {},
   "source": [
    "2. In the stack and queue implementations in the textbook, there are two implementations: one in which some operations raise exceptions, and another in which some operations return options. What are the trade-offs between those implementations?\n",
    "\n",
    "That is obvious"
   ]
  },
  {
   "cell_type": "markdown",
   "metadata": {},
   "source": [
    "3. Do the exercises named complex synonym, complex encapsulation, and fraction."
   ]
  },
  {
   "cell_type": "code",
   "execution_count": 4,
   "metadata": {},
   "outputs": [
    {
     "data": {
      "text/plain": [
       "module type ComplexSig =\n",
       "  sig type t = float * float val zero : t val add : t -> t -> t end\n"
      ]
     },
     "execution_count": 4,
     "metadata": {},
     "output_type": "execute_result"
    }
   ],
   "source": [
    "(* Exercise: complex synonym [✭]\n",
    "\n",
    "Here is a signature for complex numbers, which have a real and imaginary component:\n",
    "\n",
    "module type ComplexSig = sig\n",
    "  val zero : float * float\n",
    "  val add : float * float -> float * float -> float * float\n",
    "end\n",
    "\n",
    "Improve that code by adding type t = float * float to the signature. Show how the \n",
    "signature can be written more tersely because of the type synonym. *)\n",
    "\n",
    "\n",
    "module type ComplexSig = sig\n",
    "  type t = float * float\n",
    "  val zero : t\n",
    "  val add : t -> t -> t\n",
    "end"
   ]
  },
  {
   "cell_type": "code",
   "execution_count": 8,
   "metadata": {},
   "outputs": [],
   "source": [
    "(* Exercise: complex encapsulation [✭✭]\n",
    "\n",
    "Here is a structure that matches the signature from the previous exercise:\n",
    "\n",
    "module Complex : ComplexSig = struct\n",
    "  type t = float * float\n",
    "  let zero = (0., 0.)\n",
    "  let add (r1,i1) (r2,i2) = r1 +. r2, i1 +. i2\n",
    "end\n",
    "\n",
    "Investigate what happens if you make the following changes (each independently), \n",
    "and explain why any errors arise:\n",
    "\n",
    "    remove zero from the structure\n",
    "    remove add from the signature\n",
    "    change zero in the structure to let zero = 0, 0\n",
    " *)\n",
    " \n",
    "(* 1. \n",
    "Error: Signature mismatch:\n",
    "       Modules do not match:\n",
    "         sig\n",
    "           type t = float * float\n",
    "           val add : float * float -> float * float -> float * float\n",
    "         end\n",
    "       is not included in\n",
    "         ComplexSig\n",
    "       The value `zero' is required but not provided\n",
    "       File \"[4]\", line 16, characters 2-14: Expected declaration\n",
    "       \n",
    "        *)\n",
    "        \n",
    "(* 2. \n",
    "Error: Signature mismatch:\n",
    "       Modules do not match:\n",
    "         sig type t = float * float val zero : float * float end\n",
    "       is not included in\n",
    "         ComplexSig\n",
    "       The value `add' is required but not provided\n",
    "       File \"[4]\", line 17, characters 2-23: Expected declaration\n",
    "       *)\n",
    "        \n",
    "(* 3. \n",
    "Error: Signature mismatch:\n",
    "       ...\n",
    "       Values do not match:\n",
    "         val zero : int * int\n",
    "       is not included in\n",
    "         val zero : t\n",
    "       File \"[4]\", line 16, characters 2-14: Expected declaration\n",
    "       File \"[7]\", line 45, characters 6-10: Actual declaration\n",
    "     *)"
   ]
  },
  {
   "cell_type": "code",
   "execution_count": 137,
   "metadata": {},
   "outputs": [
    {
     "data": {
      "text/plain": [
       "module type Fraction =\n",
       "  sig\n",
       "    type t\n",
       "    val make : int -> int -> t\n",
       "    val numerator : t -> int\n",
       "    val denominator : t -> int\n",
       "    val to_string : t -> string\n",
       "    val to_float : t -> float\n",
       "    val add : t -> t -> t\n",
       "    val mul : t -> t -> t\n",
       "  end\n"
      ]
     },
     "execution_count": 137,
     "metadata": {},
     "output_type": "execute_result"
    },
    {
     "data": {
      "text/plain": [
       "module MyFraction : Fraction\n"
      ]
     },
     "execution_count": 137,
     "metadata": {},
     "output_type": "execute_result"
    },
    {
     "data": {
      "text/plain": [
       "- : string = \"5/2\"\n"
      ]
     },
     "execution_count": 137,
     "metadata": {},
     "output_type": "execute_result"
    },
    {
     "data": {
      "text/plain": [
       "- : string = \"5/4\"\n"
      ]
     },
     "execution_count": 137,
     "metadata": {},
     "output_type": "execute_result"
    },
    {
     "data": {
      "text/plain": [
       "- : string = \"7/6\"\n"
      ]
     },
     "execution_count": 137,
     "metadata": {},
     "output_type": "execute_result"
    },
    {
     "ename": "error",
     "evalue": "runtime_error",
     "output_type": "error",
     "traceback": [
      "\u001b[31mException: MyFraction.BadFraction.\nRaised at file \"[137]\", line 50, characters 39-50\nCalled from file \"toplevel/toploop.ml\", line 208, characters 17-27\n\u001b[0m"
     ]
    }
   ],
   "source": [
    "(* Exercise: fraction [✭✭✭]\n",
    "\n",
    "Write a module that implements the Fraction module type below:\n",
    "\n",
    "module type Fraction = sig\n",
    "  (* A fraction is a rational number p/q, where q != 0.*)\n",
    "  type t\n",
    "\n",
    "  (* [make n d] is n/d. Requires d != 0. *)\n",
    "  val make : int -> int -> t\n",
    "\n",
    "  val numerator : t -> int\n",
    "  val denominator : t -> int\n",
    "  val to_string : t -> string\n",
    "  val to_float : t -> float\n",
    "\n",
    "  val add : t -> t -> t\n",
    "  val mul : t -> t -> t\n",
    "end\n",
    " *)\n",
    "\n",
    "module type Fraction = sig\n",
    "  (* A fraction is a rational number p/q, where q != 0.*)\n",
    "  type t\n",
    "\n",
    "  (* [make n d] is n/d. Requires d != 0. *)\n",
    "  val make : int -> int -> t\n",
    "\n",
    "  val numerator : t -> int\n",
    "  val denominator : t -> int\n",
    "  val to_string : t -> string\n",
    "  val to_float : t -> float\n",
    "  val add : t -> t -> t\n",
    "  val mul : t -> t -> t\n",
    "end\n",
    "\n",
    "module MyFraction : Fraction = struct\n",
    "    exception BadFraction\n",
    "\n",
    "    type t = Fraction of int * int;;\n",
    "    \n",
    "    (* private: *)\n",
    "    let rec gcd (x, y) =\n",
    "        let (x, y) = if x >= y then (x, y) else (y, x) in\n",
    "        if y = 0 then x else gcd(y, x mod y)\n",
    "    let reduce (Fraction(n, d)) = \n",
    "        Fraction((n / gcd(n, d)), (d / gcd(n, d))) \n",
    "\n",
    "    (* public: *)\n",
    "    let make n d = if d = 0 then raise BadFraction else\n",
    "       reduce(Fraction(n, d))\n",
    "    let numerator (Fraction(n, _)) = n\n",
    "    let denominator (Fraction(_, d)) = d\n",
    "    let to_string (Fraction(n, d)) = Printf.sprintf \"%d/%d\" n d\n",
    "    let to_float (Fraction(n, d)) = (float_of_int n) /. (float_of_int d)\n",
    "    \n",
    "    let add (Fraction(n1, d1)) (Fraction(n2, d2)) = \n",
    "        reduce(Fraction(n1 * d2 + d1 * n2, d1 * d2))\n",
    "    let mul (Fraction(n1, d1)) (Fraction(n2, d2)) = \n",
    "        reduce(Fraction(n1 * n2, d1 * d2))\n",
    "end\n",
    "\n",
    "open MyFraction;;\n",
    "\n",
    "to_string (make 5 2);;\n",
    "to_string (add (make 1 2) (make 6 8));;\n",
    "to_string (mul (make 1 2) (make 7 3));;\n",
    "\n",
    "make 5 0;;"
   ]
  },
  {
   "cell_type": "markdown",
   "metadata": {},
   "source": [
    "4. For extra challenge, do binary search tree dictionary."
   ]
  },
  {
   "cell_type": "code",
   "execution_count": 292,
   "metadata": {},
   "outputs": [
    {
     "data": {
      "text/plain": [
       "module type Dictionary =\n",
       "  sig\n",
       "    type ('k, 'v) t\n",
       "    val empty : ('k, 'v) t\n",
       "    val insert : 'k -> 'v -> ('k, 'v) t -> ('k, 'v) t\n",
       "    val lookup : 'k -> ('k, 'v) t -> 'v\n",
       "  end\n"
      ]
     },
     "execution_count": 292,
     "metadata": {},
     "output_type": "execute_result"
    }
   ],
   "source": [
    "(* Exercise: binary search tree dictionary [✭✭✭]\n",
    "\n",
    "Write a module BstDict that implements the Dictionary module type using the tree type. *)\n",
    "\n",
    "module type Dictionary = sig\n",
    "  type ('k, 'v) t\n",
    "\n",
    "  (* The empty dictionary *)\n",
    "  val empty  : ('k, 'v) t\n",
    "\n",
    "  (* [insert k v d] produces a new dictionary [d'] with the same mappings \n",
    "   * as [d] and also a mapping from [k] to [v], even if [k] was already \n",
    "   * mapped in [d]. *)\n",
    "  val insert : 'k -> 'v -> ('k,'v) t -> ('k,'v) t\n",
    "\n",
    "  (* [lookup k d] returns the value associated with [k] in [d].  \n",
    "   * raises:  [Not_found] if [k] is not mapped to any value in [d]. *)\n",
    "  val lookup  : 'k -> ('k,'v) t -> 'v\n",
    "end"
   ]
  },
  {
   "cell_type": "code",
   "execution_count": 298,
   "metadata": {},
   "outputs": [
    {
     "data": {
      "text/plain": [
       "module BstDict : Dictionary\n"
      ]
     },
     "execution_count": 298,
     "metadata": {},
     "output_type": "execute_result"
    }
   ],
   "source": [
    "module BstDict : Dictionary = struct\n",
    "    exception NotFound\n",
    "    \n",
    "    type 'a tree =\n",
    "        Node of 'a * 'a tree * 'a tree\n",
    "        | Leaf\n",
    "        \n",
    "    type ('k, 'v) t = ('k * 'v) tree\n",
    "\n",
    "    let empty = Leaf\n",
    "    let rec insert k v t = \n",
    "        match t with\n",
    "            | Leaf -> Node((k, v), Leaf, Leaf)\n",
    "            | Node((kk, vv), l, r) when k = kk -> Node((k, v), l, r)\n",
    "            | Node((kk, vv), l, r) when k < kk -> Node((kk, vv), (insert k v l), r)\n",
    "            | Node(tree, l, r) -> Node(tree, l, (insert k v r))\n",
    "            \n",
    "    let rec lookup k t =\n",
    "        match t with\n",
    "            | Leaf -> raise NotFound\n",
    "            | Node((kk, v), _, _) when k = kk -> v\n",
    "            | Node((kk, _), l, _) when k < kk -> lookup k l\n",
    "            | Node(_, _, r) -> lookup k r\n",
    "end"
   ]
  },
  {
   "cell_type": "code",
   "execution_count": 297,
   "metadata": {},
   "outputs": [
    {
     "data": {
      "text/plain": [
       "val make_tree : ('a * 'b) list -> ('a, 'b) BstDict.t = <fun>\n"
      ]
     },
     "execution_count": 297,
     "metadata": {},
     "output_type": "execute_result"
    },
    {
     "data": {
      "text/plain": [
       "val tree : (string, int) BstDict.t = <abstr>\n"
      ]
     },
     "execution_count": 297,
     "metadata": {},
     "output_type": "execute_result"
    },
    {
     "data": {
      "text/plain": [
       "- : int = 1\n"
      ]
     },
     "execution_count": 297,
     "metadata": {},
     "output_type": "execute_result"
    },
    {
     "data": {
      "text/plain": [
       "- : int = 0\n"
      ]
     },
     "execution_count": 297,
     "metadata": {},
     "output_type": "execute_result"
    },
    {
     "data": {
      "text/plain": [
       "- : int = 6\n"
      ]
     },
     "execution_count": 297,
     "metadata": {},
     "output_type": "execute_result"
    }
   ],
   "source": [
    "let make_tree l = \n",
    "    List.fold_left (fun t (k, v) -> BstDict.insert k v t) BstDict.empty l;;\n",
    "        \n",
    "let tree = make [(\"dog\", 1); (\"test\", 0); (\"ok\", 6)];;\n",
    "BstDict.lookup \"dog\" tree;;\n",
    "BstDict.lookup \"test\" tree;;\n",
    "BstDict.lookup \"ok\" tree;;"
   ]
  }
 ],
 "metadata": {
  "kernelspec": {
   "display_name": "OCaml default",
   "language": "OCaml",
   "name": "ocaml-jupyter"
  },
  "language_info": {
   "codemirror_mode": "text/x-ocaml",
   "file_extension": ".ml",
   "mimetype": "text/x-ocaml",
   "name": "OCaml",
   "nbconverter_exporter": null,
   "pygments_lexer": "OCaml",
   "version": "4.08.1"
  }
 },
 "nbformat": 4,
 "nbformat_minor": 4
}
