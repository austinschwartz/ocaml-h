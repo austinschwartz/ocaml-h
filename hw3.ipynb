{
 "cells": [
  {
   "cell_type": "markdown",
   "metadata": {},
   "source": [
    "1. One of the premises of functional programming is that mathematical functions are the basic building block of computation. How are OCaml functions like mathematical functions? How are they different? As part of your answer, focus on the notion of types. In your opinion, is mathematics itself typed or untyped? (Note this is meant as a thought question, rather than a question with an exact right answer.)\n",
    "\n",
    "Answer: Pretty sure math is very much so typed, I'm sure Erics answer for this would be better than what I can put down here.\n"
   ]
  },
  {
   "cell_type": "markdown",
   "metadata": {},
   "source": [
    "2. Imagine that your boss asks you to implement a function named grk and that its type must be exactly string -> bool. In other words, the toplevel would print the following when queried about the function:\n",
    "\n",
    "```ocaml\n",
    "# grk;;\n",
    "grk : string -> bool = <fun>\n",
    "```\n",
    "\n",
    "First, create such a function; it doesn't matter what the function actually does.\n",
    "\n",
    "Second, use the toplevel to investigate which of the following would be permitted by your boss's request, and which would not:\n",
    "\n",
    "    - Making grk a recursive function.\n",
    "    - Making grk a non-recursive function.\n",
    "    - Writing a helper function and using that helper function in the body of grk.\n",
    "    - Making the string argument a labelled argument.\n",
    "    \n",
    "Answer: All are valid\n"
   ]
  },
  {
   "cell_type": "code",
   "execution_count": 135,
   "metadata": {},
   "outputs": [
    {
     "data": {
      "text/plain": [
       "val grk : string -> bool = <fun>\n"
      ]
     },
     "execution_count": 135,
     "metadata": {},
     "output_type": "execute_result"
    },
    {
     "data": {
      "text/plain": [
       "- : bool = true\n"
      ]
     },
     "execution_count": 135,
     "metadata": {},
     "output_type": "execute_result"
    },
    {
     "data": {
      "text/plain": [
       "val grk : string -> bool = <fun>\n"
      ]
     },
     "execution_count": 135,
     "metadata": {},
     "output_type": "execute_result"
    },
    {
     "data": {
      "text/plain": [
       "- : bool = true\n"
      ]
     },
     "execution_count": 135,
     "metadata": {},
     "output_type": "execute_result"
    },
    {
     "data": {
      "text/plain": [
       "val f : string = \"dog\"\n"
      ]
     },
     "execution_count": 135,
     "metadata": {},
     "output_type": "execute_result"
    },
    {
     "data": {
      "text/plain": [
       "val grk : string -> bool = <fun>\n"
      ]
     },
     "execution_count": 135,
     "metadata": {},
     "output_type": "execute_result"
    },
    {
     "data": {
      "text/plain": [
       "- : bool = true\n"
      ]
     },
     "execution_count": 135,
     "metadata": {},
     "output_type": "execute_result"
    },
    {
     "data": {
      "text/plain": [
       "val grk : string -> bool = <fun>\n"
      ]
     },
     "execution_count": 135,
     "metadata": {},
     "output_type": "execute_result"
    },
    {
     "data": {
      "text/plain": [
       "- : bool = true\n"
      ]
     },
     "execution_count": 135,
     "metadata": {},
     "output_type": "execute_result"
    }
   ],
   "source": [
    "let grk s = s = \"dog\";;\n",
    "grk \"dog\"\n",
    "let rec grk s = s = \"dog\";;\n",
    "grk \"dog\"\n",
    "let f = \"dog\";;\n",
    "let grk s = s = f;;\n",
    "grk \"dog\";;\n",
    "let grk (s: string) : bool = true;;\n",
    "grk \"dog\""
   ]
  },
  {
   "cell_type": "code",
   "execution_count": 133,
   "metadata": {},
   "outputs": [
    {
     "data": {
      "text/plain": [
       "val grk : s:string -> bool = <fun>\n"
      ]
     },
     "execution_count": 133,
     "metadata": {},
     "output_type": "execute_result"
    },
    {
     "data": {
      "text/plain": [
       "- : bool = true\n"
      ]
     },
     "execution_count": 133,
     "metadata": {},
     "output_type": "execute_result"
    },
    {
     "data": {
      "text/plain": [
       "val grk : s:string -> x:'a -> bool = <fun>\n"
      ]
     },
     "execution_count": 133,
     "metadata": {},
     "output_type": "execute_result"
    }
   ],
   "source": [
    "let grk ~s = s = \"dog\";;\n",
    "grk ~s:\"dog\"\n",
    "\n",
    "let grk ~s ~x = s = \"dog\";;"
   ]
  },
  {
   "cell_type": "markdown",
   "metadata": {},
   "source": [
    "3. Do the exercises named fib, poly types, and associativity from the current chapter of the textbook."
   ]
  },
  {
   "cell_type": "code",
   "execution_count": 143,
   "metadata": {},
   "outputs": [
    {
     "data": {
      "text/plain": [
       "val fib : int -> int = <fun>\n"
      ]
     },
     "execution_count": 143,
     "metadata": {},
     "output_type": "execute_result"
    },
    {
     "data": {
      "text/plain": [
       "- : int = 102334155\n"
      ]
     },
     "execution_count": 143,
     "metadata": {},
     "output_type": "execute_result"
    }
   ],
   "source": [
    "(* fib *)\n",
    "let rec fib x = \n",
    "    if x <= 1 then x else fib (x - 1) + fib (x - 2);;\n",
    "fib 40;;"
   ]
  },
  {
   "cell_type": "code",
   "execution_count": 148,
   "metadata": {},
   "outputs": [
    {
     "data": {
      "text/plain": [
       "val f : bool -> bool = <fun>\n"
      ]
     },
     "execution_count": 148,
     "metadata": {},
     "output_type": "execute_result"
    },
    {
     "data": {
      "text/plain": [
       "val g : 'a -> bool -> 'a = <fun>\n"
      ]
     },
     "execution_count": 148,
     "metadata": {},
     "output_type": "execute_result"
    },
    {
     "data": {
      "text/plain": [
       "val h : bool -> 'a -> 'a -> 'a = <fun>\n"
      ]
     },
     "execution_count": 148,
     "metadata": {},
     "output_type": "execute_result"
    },
    {
     "data": {
      "text/plain": [
       "val i : bool -> 'a -> 'b -> 'a = <fun>\n"
      ]
     },
     "execution_count": 148,
     "metadata": {},
     "output_type": "execute_result"
    }
   ],
   "source": [
    "(* poly types *)\n",
    "let f x = if x then x else x;;\n",
    "let g x y = if y then x else x;;\n",
    "let h x y z = if x then y else z;;\n",
    "let i x y z = if x then y else y;;"
   ]
  },
  {
   "cell_type": "code",
   "execution_count": 155,
   "metadata": {},
   "outputs": [
    {
     "data": {
      "text/plain": [
       "val add : int -> int -> int = <fun>\n"
      ]
     },
     "execution_count": 155,
     "metadata": {},
     "output_type": "execute_result"
    },
    {
     "data": {
      "text/plain": [
       "- : int = 6\n"
      ]
     },
     "execution_count": 155,
     "metadata": {},
     "output_type": "execute_result"
    },
    {
     "data": {
      "text/plain": [
       "- : int -> int = <fun>\n"
      ]
     },
     "execution_count": 155,
     "metadata": {},
     "output_type": "execute_result"
    },
    {
     "data": {
      "text/plain": [
       "- : int = 6\n"
      ]
     },
     "execution_count": 155,
     "metadata": {},
     "output_type": "execute_result"
    },
    {
     "ename": "error",
     "evalue": "compile_error",
     "output_type": "error",
     "traceback": [
      "File \"[155]\", line 6, characters 5-6:\n6 | add (5 1);; (* error *)\n         ^\nError: This expression has type int\n       This is not a function; it cannot be applied.\n"
     ]
    }
   ],
   "source": [
    "(* associativity *)\n",
    "let add x y = x + y;;\n",
    "add 5 1;;\n",
    "add 5;; \n",
    "(add 5) 1;;\n",
    "add (5 1);; (* error *)"
   ]
  },
  {
   "cell_type": "markdown",
   "metadata": {},
   "source": [
    "4. As a challenge, also do the fib fast exercise."
   ]
  },
  {
   "cell_type": "code",
   "execution_count": 158,
   "metadata": {},
   "outputs": [
    {
     "data": {
      "text/plain": [
       "val fib : int -> int = <fun>\n"
      ]
     },
     "execution_count": 158,
     "metadata": {},
     "output_type": "execute_result"
    },
    {
     "data": {
      "text/plain": [
       "- : int = 1548008755920\n"
      ]
     },
     "execution_count": 158,
     "metadata": {},
     "output_type": "execute_result"
    }
   ],
   "source": [
    "(* fib fast *)\n",
    "(* note: re-writing to end in tail call since ocaml will always tail call optimize *)\n",
    "let fib x = \n",
    "    let rec fib_help x prev acc = \n",
    "        if x <= 2 then acc\n",
    "        else fib_help (x-1) acc (prev+acc) in\n",
    "    fib_help x 1 1;;\n",
    "fib 60;"
   ]
  },
  {
   "cell_type": "code",
   "execution_count": 161,
   "metadata": {},
   "outputs": [
    {
     "data": {
      "text/plain": [
       "val tbl : ('_weak17, '_weak18) Hashtbl.t = <abstr>\n"
      ]
     },
     "execution_count": 161,
     "metadata": {},
     "output_type": "execute_result"
    },
    {
     "data": {
      "text/plain": [
       "- : unit = ()\n"
      ]
     },
     "execution_count": 161,
     "metadata": {},
     "output_type": "execute_result"
    },
    {
     "data": {
      "text/plain": [
       "- : unit = ()\n"
      ]
     },
     "execution_count": 161,
     "metadata": {},
     "output_type": "execute_result"
    },
    {
     "data": {
      "text/plain": [
       "val fib_mem : int -> int = <fun>\n"
      ]
     },
     "execution_count": 161,
     "metadata": {},
     "output_type": "execute_result"
    },
    {
     "data": {
      "text/plain": [
       "- : int = 1548008755920\n"
      ]
     },
     "execution_count": 161,
     "metadata": {},
     "output_type": "execute_result"
    }
   ],
   "source": [
    "(* fib fast *)\n",
    "(* using hash table. tried to make a nested function but it kept throwing syntax errors so idk *)\n",
    "let tbl = Hashtbl.create 123456;;\n",
    "Hashtbl.add tbl 0 0;;\n",
    "Hashtbl.add tbl 1 1;;\n",
    "let rec fib_mem x = \n",
    "    if Hashtbl.mem tbl x\n",
    "    then Hashtbl.find tbl x\n",
    "    else \n",
    "        let res = (fib_mem (x-1) + fib_mem (x-2)) in\n",
    "        Hashtbl.add tbl x res;\n",
    "        res;;\n",
    "fib 60;;"
   ]
  },
  {
   "cell_type": "code",
   "execution_count": null,
   "metadata": {},
   "outputs": [],
   "source": []
  }
 ],
 "metadata": {
  "kernelspec": {
   "display_name": "OCaml default",
   "language": "OCaml",
   "name": "ocaml-jupyter"
  },
  "language_info": {
   "codemirror_mode": "text/x-ocaml",
   "file_extension": ".ml",
   "mimetype": "text/x-ocaml",
   "name": "OCaml",
   "nbconverter_exporter": null,
   "pygments_lexer": "OCaml",
   "version": "4.08.1"
  }
 },
 "nbformat": 4,
 "nbformat_minor": 4
}
