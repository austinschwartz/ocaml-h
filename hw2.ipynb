{
 "cells": [
  {
   "cell_type": "markdown",
   "metadata": {},
   "source": [
    "1. In your own words, explain the difference between syntax and semantics. Also explain the difference between static semantics and dynamic semantics.\n",
    "\n",
    "Answer: Syntax is the structure of the language, semantics is the meaning. E.g. in java doing ```int x = \"dog\";``` is valid syntactically but not semantically valid. It has no valid meaning in the language but is parsable. Static semantics are rules that are checked via compile-time and dynamic are checked at run-time. Type checking is usually part of static semantics (except in dynamically typed languages e.g. javascript, python). \n",
    "\n",
    "Even in statically typed languages like Java some type checks are done at run-time, e.g. the following:\n",
    "\n",
    "```java\n",
    "class A {...}\n",
    "class B extends A {...}\n",
    "class C extends A {...}\n",
    "```\n",
    "\n",
    "```java\n",
    "((C) new B());\n",
    "```\n",
    "```text\n",
    "java.lang.ClassCastException: B cannot be cast to C\n",
    "```"
   ]
  },
  {
   "cell_type": "markdown",
   "metadata": {},
   "source": [
    "2. The section on scope in the textbook discusses this expression:\n",
    "\n",
    "```ocaml\n",
    "let x = 5 in \n",
    "  ((let x = 6 in x) + x)\n",
    "```\n",
    "\n",
    "Using the dynamic semanics of let expressions, explain how that expression evaluates.\n",
    "\n",
    "Answer: At run-time the following takes place:\n",
    "\n",
    "```ocaml\n",
    "let x = 5 in ((let x = 6 in x) + x)\n",
    "let x = 5 in (6 + x)\n",
    "(6 + 5)\n",
    "11\n",
    "```"
   ]
  },
  {
   "cell_type": "markdown",
   "metadata": {},
   "source": [
    "3. Run the following code in the toplevel.\n",
    "\n",
    "```ocaml\n",
    "let x = 1;;\n",
    "let x = 2;;\n",
    "x;;\n",
    "```"
   ]
  },
  {
   "cell_type": "code",
   "execution_count": 7,
   "metadata": {},
   "outputs": [
    {
     "data": {
      "text/plain": [
       "val x : int = 1\n"
      ]
     },
     "execution_count": 7,
     "metadata": {},
     "output_type": "execute_result"
    },
    {
     "data": {
      "text/plain": [
       "val x : int = 2\n"
      ]
     },
     "execution_count": 7,
     "metadata": {},
     "output_type": "execute_result"
    },
    {
     "data": {
      "text/plain": [
       "- : int = 2\n"
      ]
     },
     "execution_count": 7,
     "metadata": {},
     "output_type": "execute_result"
    }
   ],
   "source": [
    "let x = 1;;\n",
    "let x = 2;;\n",
    "x;;"
   ]
  },
  {
   "cell_type": "markdown",
   "metadata": {},
   "source": [
    "Why is it valid to say that variables in OCaml are immutable, despite the output of utop? Your answer should incorporate the ideas of shadowing and nested let expressions.\n",
    "\n",
    "Answer: Shadowing doesn't imply mutability, same as in other languages like C. In this example the second `x` shadows the first, so you can think of them as separate variables. Let expressions and scope in ocaml works the same way.\n",
    "\n",
    "```c\n",
    "int f() {\n",
    "    int x = 5;\n",
    "    {\n",
    "        int x = 6;\n",
    "        printf(\"%d\\n\", x); // prints 6\n",
    "    }\n",
    "    printf(\"%d\\n\", x); // prints 5\n",
    "}\n",
    "```\n",
    "\n"
   ]
  },
  {
   "cell_type": "markdown",
   "metadata": {},
   "source": [
    "4. Do the exercises named operators, equality, and date fun from the exercises section at the end of chapter 2 of the 3110 textbook."
   ]
  },
  {
   "cell_type": "code",
   "execution_count": 9,
   "metadata": {},
   "outputs": [
    {
     "data": {
      "text/plain": [
       "val f : int = 420\n"
      ]
     },
     "execution_count": 9,
     "metadata": {},
     "output_type": "execute_result"
    },
    {
     "data": {
      "text/plain": [
       "val g : float = 1.57\n"
      ]
     },
     "execution_count": 9,
     "metadata": {},
     "output_type": "execute_result"
    },
    {
     "data": {
      "text/plain": [
       "- : float = 23053.9333248000075\n"
      ]
     },
     "execution_count": 9,
     "metadata": {},
     "output_type": "execute_result"
    }
   ],
   "source": [
    "(* operators *)\n",
    "let f = 42 * 10;;\n",
    "let g = 3.14 /. 2.0;;\n",
    "let rec pow x y = \n",
    "    if y > 0.0 then x *. pow x (y -. 1.0)\n",
    "    else 1.0 in\n",
    "pow 4.2 7.0"
   ]
  },
  {
   "cell_type": "code",
   "execution_count": 8,
   "metadata": {},
   "outputs": [
    {
     "data": {
      "text/plain": [
       "- : float = 23053.9333248000075\n"
      ]
     },
     "execution_count": 8,
     "metadata": {},
     "output_type": "execute_result"
    }
   ],
   "source": [
    "4.2 ** 7.0"
   ]
  },
  {
   "cell_type": "code",
   "execution_count": 3,
   "metadata": {},
   "outputs": [
    {
     "data": {
      "text/plain": [
       "- : bool = true\n"
      ]
     },
     "execution_count": 3,
     "metadata": {},
     "output_type": "execute_result"
    },
    {
     "data": {
      "text/plain": [
       "- : bool = true\n"
      ]
     },
     "execution_count": 3,
     "metadata": {},
     "output_type": "execute_result"
    },
    {
     "data": {
      "text/plain": [
       "- : bool = false\n"
      ]
     },
     "execution_count": 3,
     "metadata": {},
     "output_type": "execute_result"
    },
    {
     "data": {
      "text/plain": [
       "- : bool = true\n"
      ]
     },
     "execution_count": 3,
     "metadata": {},
     "output_type": "execute_result"
    }
   ],
   "source": [
    "(* equality *)\n",
    "42 == 42;;\n",
    "42 = 42;;\n",
    "\"hi\" == \"hi\";;\n",
    "\"hi\" = \"hi\";;\n",
    "\n",
    "(* note: does ocaml not have interning?\n",
    "https://irclog.whitequark.org/ocaml/2015-08-30\n",
    "^ discussion there.\n",
    "also TIL String.intern in java manually interns\n",
    "*)"
   ]
  },
  {
   "cell_type": "code",
   "execution_count": 4,
   "metadata": {},
   "outputs": [
    {
     "data": {
      "text/plain": [
       "val valid : int -> string -> bool = <fun>\n"
      ]
     },
     "execution_count": 4,
     "metadata": {},
     "output_type": "execute_result"
    },
    {
     "data": {
      "text/plain": [
       "- : bool = true\n"
      ]
     },
     "execution_count": 4,
     "metadata": {},
     "output_type": "execute_result"
    },
    {
     "data": {
      "text/plain": [
       "- : bool = false\n"
      ]
     },
     "execution_count": 4,
     "metadata": {},
     "output_type": "execute_result"
    }
   ],
   "source": [
    "(* date fun *)\n",
    "let valid d m =\n",
    "    let thirty = [\"Apr\"; \"Jun\"; \"Sep\"; \"Nov\"] in\n",
    "    let thirty_one = [\"Jan\"; \"Mar\"; \"May\"; \"Jul\"; \"Aug\"; \"Oct\"; \"Dec\"] in\n",
    "    if List.mem m thirty then (if d >= 1 && d <= 30 then true else false)\n",
    "    else if List.mem m thirty_one then (if d >= 1 && d <= 31 then true else false)\n",
    "    else if m = \"Feb\" && d <= 28 then true else false;;\n",
    "\n",
    "valid 5 \"Jan\";;\n",
    "valid 30 \"Feb\";;"
   ]
  }
 ],
 "metadata": {
  "kernelspec": {
   "display_name": "OCaml default",
   "language": "OCaml",
   "name": "ocaml-jupyter"
  },
  "language_info": {
   "codemirror_mode": "text/x-ocaml",
   "file_extension": ".ml",
   "mimetype": "text/x-ocaml",
   "name": "OCaml",
   "nbconverter_exporter": null,
   "pygments_lexer": "OCaml",
   "version": "4.08.1"
  }
 },
 "nbformat": 4,
 "nbformat_minor": 4
}
