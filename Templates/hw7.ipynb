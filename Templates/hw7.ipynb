{
 "cells": [
  {
   "cell_type": "markdown",
   "metadata": {},
   "source": [
    "1. The textbook mentions namespaces and encapsulation as two of the features that module systems can provide. How does the OCaml module system provide these features?\n"
   ]
  },
  {
   "cell_type": "markdown",
   "metadata": {},
   "source": [
    "2. In the stack and queue implementations in the textbook, there are two implementations: one in which some operations raise exceptions, and another in which some operations return options. What are the trade-offs between those implementations?"
   ]
  },
  {
   "cell_type": "markdown",
   "metadata": {},
   "source": [
    "3. Do the exercises named complex synonym, complex encapsulation, and fraction."
   ]
  },
  {
   "cell_type": "code",
   "execution_count": 1,
   "metadata": {},
   "outputs": [],
   "source": [
    "(* Exercise: complex synonym [✭]\n",
    "\n",
    "Here is a signature for complex numbers, which have a real and imaginary component:\n",
    "\n",
    "module type ComplexSig = sig\n",
    "  val zero : float * float\n",
    "  val add : float * float -> float * float -> float * float\n",
    "end\n",
    "\n",
    "Improve that code by adding type t = float * float to the signature. Show how the \n",
    "signature can be written more tersely because of the type synonym. *)"
   ]
  },
  {
   "cell_type": "code",
   "execution_count": null,
   "metadata": {},
   "outputs": [],
   "source": [
    "(* Exercise: complex encapsulation [✭✭]\n",
    "\n",
    "Here is a structure that matches the signature from the previous exercise:\n",
    "\n",
    "module Complex : ComplexSig = struct\n",
    "  type t = float * float\n",
    "  let zero = (0., 0.)\n",
    "  let add (r1,i1) (r2,i2) = r1 +. r2, i1 +. i2\n",
    "end\n",
    "\n",
    "Investigate what happens if you make the following changes (each independently), \n",
    "and explain why any errors arise:\n",
    "\n",
    "    remove zero from the structure\n",
    "    remove add from the signature\n",
    "    change zero in the structure to let zero = 0, 0\n",
    " *)"
   ]
  },
  {
   "cell_type": "code",
   "execution_count": null,
   "metadata": {},
   "outputs": [],
   "source": [
    "(* Exercise: fraction [✭✭✭]\n",
    "\n",
    "Write a module that implements the Fraction module type below:\n",
    "\n",
    "module type Fraction = sig\n",
    "  (* A fraction is a rational number p/q, where q != 0.*)\n",
    "  type t\n",
    "\n",
    "  (* [make n d] is n/d. Requires d != 0. *)\n",
    "  val make : int -> int -> t\n",
    "\n",
    "  val numerator : t -> int\n",
    "  val denominator : t -> int\n",
    "  val to_string : t -> string\n",
    "  val to_float : t -> float\n",
    "\n",
    "  val add : t -> t -> t\n",
    "  val mul : t -> t -> t\n",
    "end\n",
    " *)"
   ]
  },
  {
   "cell_type": "markdown",
   "metadata": {},
   "source": [
    "4. For extra challenge, do binary search tree dictionary."
   ]
  },
  {
   "cell_type": "code",
   "execution_count": null,
   "metadata": {},
   "outputs": [],
   "source": [
    "(* Exercise: binary search tree dictionary [✭✭✭]\n",
    "\n",
    "Write a module BstDict that implements the Dictionary module type using the tree type. *)"
   ]
  }
 ],
 "metadata": {
  "kernelspec": {
   "display_name": "OCaml default",
   "language": "OCaml",
   "name": "ocaml-jupyter"
  },
  "language_info": {
   "codemirror_mode": "text/x-ocaml",
   "file_extension": ".ml",
   "mimetype": "text/x-ocaml",
   "name": "OCaml",
   "nbconverter_exporter": null,
   "pygments_lexer": "OCaml",
   "version": "4.08.1"
  }
 },
 "nbformat": 4,
 "nbformat_minor": 4
}
