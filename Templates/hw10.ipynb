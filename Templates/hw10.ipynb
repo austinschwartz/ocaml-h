{
 "cells": [
  {
   "cell_type": "markdown",
   "metadata": {},
   "source": [
    "1. Testing can be done by the original developers of code, and testing can be done by a separate quality assurance team. Give arguments for and against both methodologies."
   ]
  },
  {
   "cell_type": "markdown",
   "metadata": {},
   "source": [
    "2. Follow along with the tutorial in the Bisect section of this textbook."
   ]
  },
  {
   "cell_type": "markdown",
   "metadata": {},
   "source": [
    "3. Do the exercises named black box test and set glass box."
   ]
  },
  {
   "cell_type": "code",
   "execution_count": 4,
   "metadata": {},
   "outputs": [],
   "source": [
    "(* Exercise: black box test [✭✭]\n",
    "Download sets.ml It implements sets with a list. Read the Set signature at the top of it; \n",
    "do not read down to the end of the file where that signature is implemented as ListSet.\n",
    "\n",
    "Based on the specification comments of Set, write an OUnit test suite for ListSet that does \n",
    "black-box testing of size and choose. Write enough tests to detect at least one bug in both \n",
    "size and choose without ever reading their implementations. *)"
   ]
  },
  {
   "cell_type": "code",
   "execution_count": 5,
   "metadata": {},
   "outputs": [],
   "source": [
    "(* Exercise: set glass box [✭✭✭, optional]\n",
    "Achieve as close to 100% code coverage with Bisect as you can for ListSet. *)"
   ]
  },
  {
   "cell_type": "markdown",
   "metadata": {},
   "source": [
    "4. For extra challenge, do Enigma glass box."
   ]
  },
  {
   "cell_type": "code",
   "execution_count": 6,
   "metadata": {},
   "outputs": [],
   "source": [
    "(* Exercise: Enigma glass box [✭✭✭✭]\n",
    "Go back to your A1 solution. Find out what your code coverage was from your test suite. If it wasn't 100%, add more unit tests! *)"
   ]
  },
  {
   "cell_type": "code",
   "execution_count": null,
   "metadata": {},
   "outputs": [],
   "source": []
  }
 ],
 "metadata": {
  "kernelspec": {
   "display_name": "OCaml default",
   "language": "OCaml",
   "name": "ocaml-jupyter"
  },
  "language_info": {
   "codemirror_mode": "text/x-ocaml",
   "file_extension": ".ml",
   "mimetype": "text/x-ocaml",
   "name": "OCaml",
   "nbconverter_exporter": null,
   "pygments_lexer": "OCaml",
   "version": "4.08.1"
  }
 },
 "nbformat": 4,
 "nbformat_minor": 4
}
