{
 "cells": [
  {
   "cell_type": "markdown",
   "metadata": {},
   "source": [
    "1. Explain in your own words how fold functions exemplify the Abstraction Principle."
   ]
  },
  {
   "cell_type": "markdown",
   "metadata": {},
   "source": [
    "2. For each of the following, is map, filter, or fold more appropriate?\n",
    "\n",
    "- rounding each element of a float list to the nearest integer\n",
    "\n",
    "- changing a list of characters into a string that has those same characters in the same order\n",
    "\n",
    "- find the elements of a list that are between 90 and 100, inclusive\n",
    "\n",
    "- finding the maximum of a list of integers\n",
    "\n",
    "- truncating each string in a list to at most 5 characters long and replacing the rest of the characters with an ellipsis"
   ]
  },
  {
   "cell_type": "markdown",
   "metadata": {},
   "source": [
    "3. Do the exercises named repeat, sum_cube_odd, exists, uncurry, curry, and tree map."
   ]
  },
  {
   "cell_type": "code",
   "execution_count": 6,
   "metadata": {},
   "outputs": [
    {
     "data": {
      "text/plain": [
       "val repeat : 'a -> 'b -> 'c -> bool = <fun>\n"
      ]
     },
     "execution_count": 6,
     "metadata": {},
     "output_type": "execute_result"
    }
   ],
   "source": [
    "(* Exercise: repeat [✭✭]\n",
    "\n",
    "Generalize twice to a function repeat, such that repeat f n x applies f to x a total of n times. \n",
    "That is,\n",
    "    repeat f 0 x yields x\n",
    "    repeat f 1 x yields f x\n",
    "    repeat f 2 x yields f (f x) (which is the same as twice f x)\n",
    "    repeat f 3 x yields f (f (f x))\n",
    "    ...\n",
    " *)\n",
    " \n",
    "let repeat f n x = true;"
   ]
  },
  {
   "cell_type": "code",
   "execution_count": 8,
   "metadata": {},
   "outputs": [
    {
     "data": {
      "text/plain": [
       "val sum_cube_odd : 'a -> bool = <fun>\n"
      ]
     },
     "execution_count": 8,
     "metadata": {},
     "output_type": "execute_result"
    }
   ],
   "source": [
    "(* Exercise: sum_cube_odd [✭✭]\n",
    "\n",
    "Write a function sum_cube_odd n that computes the sum of the cubes of all the odd numbers \n",
    "between 0 and n inclusive. Do not write any new recursive functions. Instead, use the \n",
    "functionals map, fold, and filter, and the (--) operator (defined in the discussion of fold left vs. fold right). *)\n",
    "\n",
    "let sum_cube_odd n = true;"
   ]
  },
  {
   "cell_type": "code",
   "execution_count": 10,
   "metadata": {},
   "outputs": [
    {
     "data": {
      "text/plain": [
       "val exists_rec : bool = true\n"
      ]
     },
     "execution_count": 10,
     "metadata": {},
     "output_type": "execute_result"
    },
    {
     "data": {
      "text/plain": [
       "val exists_fold : bool = true\n"
      ]
     },
     "execution_count": 10,
     "metadata": {},
     "output_type": "execute_result"
    },
    {
     "data": {
      "text/plain": [
       "val exists_lib : bool = true\n"
      ]
     },
     "execution_count": 10,
     "metadata": {},
     "output_type": "execute_result"
    }
   ],
   "source": [
    "(* Exercise: exists [✭✭]\n",
    "\n",
    "Consider writing a function exists: ('a -> bool) -> 'a list -> bool, \n",
    "such that exists p [a1; ...; an] returns whether at least one element of the list \n",
    "satisfies the predicate p. That is, it evaluates the same as (p a1) || (p a2) || ... || (p an). \n",
    "When applied to an empty list, it evaluates to false.\n",
    "\n",
    "Write three solutions to this problem, as we did above:\n",
    "\n",
    "    - exists_rec, which must be a recursive function that does not use the List module,\n",
    "    - exists_fold, which uses either List.fold_left or List.fold_right, but not any other \n",
    "      List module functions nor the rec keyword, and\n",
    "    - exists_lib, which uses any combination of List module functions other than fold_left or fold_right, and does not use the rec keyword.\n",
    " *)\n",
    " \n",
    "let exists_rec = true;;\n",
    "let exists_fold = true;;\n",
    "let exists_lib = true;;"
   ]
  },
  {
   "cell_type": "code",
   "execution_count": 11,
   "metadata": {},
   "outputs": [
    {
     "data": {
      "text/plain": [
       "val uncurry : 'a -> bool = <fun>\n"
      ]
     },
     "execution_count": 11,
     "metadata": {},
     "output_type": "execute_result"
    }
   ],
   "source": [
    "(* Exercise: uncurry [✭✭]\n",
    "\n",
    "Write a function uncurry that takes in a curried function and returns the \n",
    "uncurried version of that function. Remember that curried functions have types \n",
    "like 'a -> 'b -> 'c, and the corresponding uncurried function will have the type \n",
    "'a * 'b -> 'c. Therefore uncurry should have the folowing type:\n",
    "\n",
    "val uncurry : ('a -> 'b -> 'c) -> 'a * 'b -> 'c\n",
    "\n",
    "If your solution is correct, you can use it to reimplement the previous exercise as follows:\n",
    "\n",
    "let uncurried_nth     = uncurry List.nth\n",
    "let uncurried_append  = uncurry List.append\n",
    "let uncurried_compare = uncurry Char.compare\n",
    "let uncurried_max     = uncurry max\n",
    " *)\n",
    " \n",
    "let uncurry f = true;;"
   ]
  },
  {
   "cell_type": "code",
   "execution_count": 12,
   "metadata": {},
   "outputs": [],
   "source": [
    "(* Exercise: curry [✭✭]\n",
    "\n",
    "Write the inverse function curry. It should have the following type:\n",
    "\n",
    "val curry : ('a * 'b -> 'c) -> 'a -> 'b -> 'c\n",
    " *)"
   ]
  },
  {
   "cell_type": "code",
   "execution_count": 13,
   "metadata": {},
   "outputs": [
    {
     "data": {
      "text/plain": [
       "type 'a tree = Leaf | Node of 'a * 'a tree * 'a tree\n"
      ]
     },
     "execution_count": 13,
     "metadata": {},
     "output_type": "execute_result"
    }
   ],
   "source": [
    "(* Exercise: tree map [✭✭✭]\n",
    "\n",
    "Using the following defintion of tree:\n",
    "\n",
    "type 'a tree = \n",
    "| Leaf \n",
    "| Node of 'a * 'a tree * 'a tree\n",
    "\n",
    "Write a function tree_map : ('a -> 'b) -> 'a tree -> 'b tree that applies a function to every node of a tree, just like List.map applies a function to every element of a list.\n",
    "\n",
    "Use your tree_map function to implement a function add1 : int tree -> int tree that increments every node in an int tree. *)\n",
    "\n",
    "type 'a tree = \n",
    "    | Leaf \n",
    "    | Node of 'a * 'a tree * 'a tree;;"
   ]
  },
  {
   "cell_type": "markdown",
   "metadata": {},
   "source": [
    "4. For extra challenge, do valid matrix, row vector add, and matrix add."
   ]
  },
  {
   "cell_type": "code",
   "execution_count": 2,
   "metadata": {},
   "outputs": [
    {
     "data": {
      "text/plain": [
       "val is_valid_matrix : bool = true\n"
      ]
     },
     "execution_count": 2,
     "metadata": {},
     "output_type": "execute_result"
    }
   ],
   "source": [
    "(* Exercise: valid matrix [✭✭✭]\n",
    "\n",
    "A mathematical matrix can be represented with lists. In row-major representation, this matrix\n",
    "\n",
    "⎢1 1 1\n",
    "9 8 7⎤\n",
    "\n",
    "would be represented as the list [ [1; 1; 1]; [9; 8; 7] ]. \n",
    "Let's represent a row vector as an int list. For example, [9; 8; 7] is a row vector.\n",
    "\n",
    "A valid matrix is an int list list that has at least one row, at least one column, \n",
    "and in which every column has the same number of rows. There are many values of type \n",
    "int list list that are invalid, for example,\n",
    "\n",
    "    []\n",
    "    [ [1;2]; [3] ]\n",
    "\n",
    "Implement a function is_valid_matrix: int list list -> bool that \n",
    "returns whether the input matrix is valid. Unit test the function.\n",
    "*)\n",
    "\n",
    "let is_valid_matrix = true;"
   ]
  },
  {
   "cell_type": "code",
   "execution_count": 5,
   "metadata": {},
   "outputs": [
    {
     "data": {
      "text/plain": [
       "val add_row_vectors : 'a list = []\n"
      ]
     },
     "execution_count": 5,
     "metadata": {},
     "output_type": "execute_result"
    }
   ],
   "source": [
    "(* Exercise: row vector add [✭✭✭]\n",
    "\n",
    "Implement a function add_row_vectors: int list -> int list -> int list \n",
    "for the element-wise addition of two row vectors. For example, the addition \n",
    "of [1; 1; 1] and [9; 8; 7] is [10; 9; 8]. If the two vectors do not have the \n",
    "same number of entries, the behavior of your function is unspecified—that is, \n",
    "it may do whatever you like. Hint: there is an elegant one-line solution using \n",
    "List.map2. Unit test the function. *)\n",
    "\n",
    "let add_row_vectors = [];"
   ]
  },
  {
   "cell_type": "code",
   "execution_count": 4,
   "metadata": {},
   "outputs": [
    {
     "data": {
      "text/plain": [
       "val add_matrices : 'a list = []\n"
      ]
     },
     "execution_count": 4,
     "metadata": {},
     "output_type": "execute_result"
    }
   ],
   "source": [
    "(* Exercise: matrix add [✭✭✭, advanced]\n",
    "\n",
    "Implement a function add_matrices: int list list -> int list list -> int list list\n",
    "for matrix addition. If the two input matrices are not the same size, the behavior\n",
    "is unspecified. Hint: there is an elegant one-line solution using List.map2 and \n",
    "add_row_vectors. Unit test the function. *)\n",
    "\n",
    "let add_matrices = [];"
   ]
  }
 ],
 "metadata": {
  "kernelspec": {
   "display_name": "OCaml default",
   "language": "OCaml",
   "name": "ocaml-jupyter"
  },
  "language_info": {
   "codemirror_mode": "text/x-ocaml",
   "file_extension": ".ml",
   "mimetype": "text/x-ocaml",
   "name": "OCaml",
   "nbconverter_exporter": null,
   "pygments_lexer": "OCaml",
   "version": "4.08.1"
  }
 },
 "nbformat": 4,
 "nbformat_minor": 4
}
