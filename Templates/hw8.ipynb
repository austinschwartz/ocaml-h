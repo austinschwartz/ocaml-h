{
 "cells": [
  {
   "cell_type": "markdown",
   "metadata": {},
   "source": [
    "1. Explain in your own words how includes and functors enable code reuse.\n",
    "\n",
    "Answer: ?"
   ]
  },
  {
   "cell_type": "markdown",
   "metadata": {},
   "source": [
    "2. How are functors similar to functions? How are they different?\n",
    "\n",
    "Answer: ?"
   ]
  },
  {
   "cell_type": "markdown",
   "metadata": {},
   "source": [
    "3. Do the exercises named date order, calendar, first after, and all the exercises in the \"Writing functors\" section."
   ]
  },
  {
   "cell_type": "code",
   "execution_count": 10,
   "metadata": {},
   "outputs": [],
   "source": [
    "(* Exercise: date order [✭✭]\n",
    "Here is a type for dates:\n",
    "\n",
    "type date = { month:int; day:int }\n",
    "For example, March 31st would be represented as {month=3; day=31}. Our goal in the next few exercises is to \n",
    "implement a map whose keys have type date.\n",
    "\n",
    "Obviously it's possible to represent invalid dates with type date—for example, { month=6; day=50 } would be \n",
    "June 50th, which is not a real date. The behavior of your code in the exercises below is unspecified for invalid dates.\n",
    "\n",
    "To create a map over dates, we need a module that we can pass as input to Map.Make. That module will need to \n",
    "match the Map.OrderedType signature. Create such a module. Here is some code to get you started:\n",
    "\n",
    "module Date = struct\n",
    "  type t = date\n",
    "  let compare ...\n",
    "end\n",
    "Recall the specification of compare in Map.OrderedType as you write your Date.compare function. *)"
   ]
  },
  {
   "cell_type": "code",
   "execution_count": null,
   "metadata": {},
   "outputs": [],
   "source": [
    "(* Exercise: calendar [✭✭]\n",
    "Use the Map.Make functor with your Date module to create a DateMap module. Then define a calendar type as follows:\n",
    "\n",
    "type calendar = string DateMap.t\n",
    "The idea is that calendar maps a date to the name of an event occurring on that date.\n",
    "\n",
    "Using the functions in the DateMap module, create a calendar with a few entries in it, such as birthdays or anniversaries. *)"
   ]
  },
  {
   "cell_type": "code",
   "execution_count": 3,
   "metadata": {},
   "outputs": [],
   "source": [
    "(* Exercise: first after [✭✭✭]\n",
    "Write a function first_after : calendar -> Date.t -> string that returns the name of the first event that \n",
    "occurs strictly after the given date. If there is no such event, the function should raise Not_found, \n",
    "which is an exception already defined in the standard library. Hint: there is a one-line solution that uses \n",
    "two functions from the Map.S signature. *)"
   ]
  },
  {
   "cell_type": "code",
   "execution_count": 11,
   "metadata": {},
   "outputs": [],
   "source": [
    "(* Writing functors\n",
    "Our goal in the next series of exercises is to write a functor that, given a module supporting a to_string \n",
    "function, returns a module supporting a print function that prints that string.\n",
    "\n",
    "Exercise: ToString [✭✭]\n",
    "Write a module type ToString that specifies a signature with an abstract type t and a function to_string : t -> string.\n",
    " *)"
   ]
  },
  {
   "cell_type": "code",
   "execution_count": 12,
   "metadata": {},
   "outputs": [],
   "source": [
    "(* \n",
    "Exercise: Print [✭✭]\n",
    "Write a functor Print that takes as input a module named M of type ToString. The structure returned by your functor \n",
    "should have exactly one value in it, print, which is a function that takes a value of type M.t and prints a string \n",
    "representation of that value.\n",
    " *)"
   ]
  },
  {
   "cell_type": "code",
   "execution_count": 14,
   "metadata": {},
   "outputs": [],
   "source": [
    "(* Exercise: Print Int [✭✭]\n",
    "Create a module named PrintInt that is the result of applying the functor Print to a new module Int. You will need to \n",
    "write Int yourself. The type Int.t should be int. Hint: do not seal Int.\n",
    "\n",
    "Experiment with PrintInt in utop. Use it to print the value of an integer. *)"
   ]
  },
  {
   "cell_type": "code",
   "execution_count": 15,
   "metadata": {},
   "outputs": [],
   "source": [
    "(* Exercise: Print String [✭✭]\n",
    "Create a module named PrintString that is the result of applying the functor Print to a new module MyString. You will \n",
    "need to write MyString yourself. Hint: do not seal MyString.\n",
    "\n",
    "Experiment with PrintString in utop. Use it to print the value of a string.\n",
    " *)"
   ]
  },
  {
   "cell_type": "markdown",
   "metadata": {},
   "source": [
    "Exercise: Print reuse [✭]\n",
    "\n",
    "Explain in your own words how Print has achieved code reuse, albeit a very small amount.\n",
    "\n",
    "Answer: ?"
   ]
  },
  {
   "cell_type": "code",
   "execution_count": 9,
   "metadata": {},
   "outputs": [],
   "source": [
    "(* Exercise: Print String reuse revisited [✭✭]\n",
    "The PrintString module you created above supports just one operation: print. It would be great to have a module \n",
    "that supports all the String module functions in addition to that print operation, and it would be super great \n",
    "to derive such a module without having to copy any code.\n",
    "\n",
    "Define a module StringWithPrint. It should have all the values of the built-in String module. It should also \n",
    "have the print operation, which should be derived from the Print functor rather than being copied code.\n",
    "\n",
    "Hint: use two include statements.\n",
    " *)"
   ]
  },
  {
   "cell_type": "markdown",
   "metadata": {},
   "source": [
    "4. For extra challenge, do the \"Challenge exercise: Algebra\" section."
   ]
  },
  {
   "cell_type": "code",
   "execution_count": 18,
   "metadata": {},
   "outputs": [
    {
     "data": {
      "text/plain": [
       "module type Ring =\n",
       "  sig\n",
       "    type t\n",
       "    val zero : t\n",
       "    val one : t\n",
       "    val ( + ) : t -> t -> t\n",
       "    val ( ~- ) : t -> t\n",
       "    val ( * ) : t -> t -> t\n",
       "    val to_string : t -> string\n",
       "    val of_int : int -> t\n",
       "  end\n"
      ]
     },
     "execution_count": 18,
     "metadata": {},
     "output_type": "execute_result"
    },
    {
     "data": {
      "text/plain": [
       "module type Field =\n",
       "  sig\n",
       "    type t\n",
       "    val zero : t\n",
       "    val one : t\n",
       "    val ( + ) : t -> t -> t\n",
       "    val ( ~- ) : t -> t\n",
       "    val ( * ) : t -> t -> t\n",
       "    val ( / ) : t -> t -> t\n",
       "    val to_string : t -> string\n",
       "    val of_int : int -> t\n",
       "  end\n"
      ]
     },
     "execution_count": 18,
     "metadata": {},
     "output_type": "execute_result"
    },
    {
     "data": {
      "text/plain": [
       "module IntRing : Ring\n"
      ]
     },
     "execution_count": 18,
     "metadata": {},
     "output_type": "execute_result"
    },
    {
     "data": {
      "text/plain": [
       "module IntField : Field\n"
      ]
     },
     "execution_count": 18,
     "metadata": {},
     "output_type": "execute_result"
    },
    {
     "data": {
      "text/plain": [
       "module FloatRing : Ring\n"
      ]
     },
     "execution_count": 18,
     "metadata": {},
     "output_type": "execute_result"
    },
    {
     "data": {
      "text/plain": [
       "module FloatField : Field\n"
      ]
     },
     "execution_count": 18,
     "metadata": {},
     "output_type": "execute_result"
    },
    {
     "data": {
      "text/plain": [
       "module IntRational : Field\n"
      ]
     },
     "execution_count": 18,
     "metadata": {},
     "output_type": "execute_result"
    },
    {
     "data": {
      "text/plain": [
       "module FloatRational : Field\n"
      ]
     },
     "execution_count": 18,
     "metadata": {},
     "output_type": "execute_result"
    }
   ],
   "source": [
    "(* Challenge exercise: Algebra *)\n",
    "\n",
    "module type Ring = sig\n",
    "  type t\n",
    "  val zero  : t\n",
    "  val one   : t\n",
    "  val (+)   : t -> t -> t\n",
    "  val (~-)  : t -> t\n",
    "  val ( * ) : t -> t -> t\n",
    "  val to_string : t -> string\n",
    "  val of_int : int -> t\n",
    "end\n",
    "\n",
    "module type Field = sig\n",
    "  type t\n",
    "  val zero  : t\n",
    "  val one   : t\n",
    "  val (+)   : t -> t -> t\n",
    "  val (~-)  : t -> t\n",
    "  val ( * ) : t -> t -> t\n",
    "  val (/) : t -> t -> t\n",
    "  val to_string : t -> string\n",
    "  val of_int : int -> t\n",
    "end\n",
    "\n",
    "module IntRing : Ring = struct\n",
    "  type t = int\n",
    "  let zero = 0\n",
    "  let one = 1\n",
    "  let (+) = (+)\n",
    "  let (~-) = (~-)\n",
    "  let ( * ) = ( * )\n",
    "  let to_string = string_of_int\n",
    "  let of_int n = n\n",
    "end\n",
    "\n",
    "module IntField : Field = struct\n",
    "  type t = int\n",
    "  let zero = 0\n",
    "  let one = 1\n",
    "  let (+) = (+)\n",
    "  let (~-) = (~-)\n",
    "  let ( * ) = ( * )\n",
    "  let (/) = (/)\n",
    "  let to_string = string_of_int\n",
    "  let of_int n = n\n",
    "end\n",
    "\n",
    "module FloatRing : Ring = struct\n",
    "  type t = float\n",
    "  let zero = 0.\n",
    "  let one = 1.\n",
    "  let (+) = (+.)\n",
    "  let (~-) = (~-.)\n",
    "  let ( * ) = ( *. )\n",
    "  let to_string = string_of_float\n",
    "  let of_int n = float_of_int n\n",
    "end\n",
    "\n",
    "module FloatField : Field = struct\n",
    "  type t = float\n",
    "  let zero = 0.\n",
    "  let one = 1.\n",
    "  let (+) = (+.)\n",
    "  let (~-) = (~-.)\n",
    "  let ( * ) = ( *. )\n",
    "  let (/) = (/.)\n",
    "  let to_string = string_of_float\n",
    "  let of_int n = float_of_int n\n",
    "end\n",
    "\n",
    "module IntRational : Field = struct\n",
    "  type t = int*int\n",
    "  let zero = (0,0)\n",
    "  let one = (1,1)\n",
    "  let (+) (a,b) (c,d) = (a*d + c*b, b*d)\n",
    "  let (~-) (a,b) = (-a,b)\n",
    "  let (/) (a,b) (c,d) = a*d, b*c\n",
    "  let ( * ) (a,b) (c,d) = (a*c, b*d)\n",
    "  let to_string (a,b) = string_of_int a ^ \"/\" ^ string_of_int b\n",
    "  let of_int n = (n,1)\n",
    "end\n",
    "\n",
    "module FloatRational : Field = struct\n",
    "  type t = float*float\n",
    "  let zero = (0.,0.)\n",
    "  let one = (1.,1.)\n",
    "  let (+) (a,b) (c,d) = (a*.d +. c*.b, b*.d)\n",
    "  let (~-) (a,b) = (-.a,b)\n",
    "  let (/) (a,b) (c,d) = (a*.d, b*.c)\n",
    "  let ( * ) (a,b) (c,d) = (a*.c, b*.d)\n",
    "  let to_string (a,b) = string_of_float a ^ \"/\" ^ string_of_float b\n",
    "  let of_int n = (float_of_int n, 1.)\n",
    "end\n",
    "\n",
    "\n",
    "(* This code contains two signatures and four structures\n",
    "\n",
    "Ring is signature that describes the algebraic structure called a ring, which is an abstraction of the \n",
    "addition and multiplication operators.\n",
    "\n",
    "Field is a signature that describes the algebraic structure called a field, which is like a ring but also \n",
    "has an abstraction of the division operation.\n",
    "\n",
    "IntRing and FloatRing are structures that implement rings in terms of int and float.\n",
    "\n",
    "IntField and FloatField are structures that implement fields in terms of int and float.\n",
    "\n",
    "IntRational and FloatRational are structures that implement fields in terms of ratios (aka fractions)—that is, \n",
    "pairs of int and pairs of float.\n",
    "\n",
    "(For afficionados of abstract algebra: of course these representations don't necessarily obey all the axioms \n",
    "of rings and fields because of the limitations of machine arithmetic. Also, the division operation in IntField \n",
    "is ill-defined on zero. Try not to worry about that.)\n",
    "\n",
    "Using this code, you can write expressions like the following:\n",
    "\n",
    "# FloatField.(of_int 9 + of_int 3 / of_int 4 |> to_string);;\n",
    "- : string = \"9.75\"\n",
    "\n",
    "# IntRational.(\n",
    "    let half = one / (one+one) in \n",
    "    let quarter = half*half in \n",
    "    let three = one+one+one in \n",
    "    let nine = three*three in \n",
    "    to_string (nine + (three*quarter))\n",
    "  );;\n",
    "- : string = \"39/4\"\n",
    "Exercise: refactor arith [✭✭✭✭]\n",
    "\n",
    "Refactor the code to improve the amount of code reuse it exhibits. To do that, use include, functors, and introduce \n",
    "additional structures and signatures as needed.\n",
    "\n",
    "There isn't necessarily a right answer here, but it is possible to eliminate all the duplicated code. \n",
    "Here's some advice to guide you toward a good solution:\n",
    "\n",
    "No name should be directly declared in more than one signature. For example, (+) should not be directly declared in Field; \n",
    "it should be reused from an earlier signature. By \"directly declared\" we mean a declaration of the \n",
    "form val name : .... An indirect declaration would be one that results from an include.\n",
    "\n",
    "You need only three direct definitions of the algebraic operations and numbers (plus, minus, times, divide, zero, one): \n",
    "once for int, once for float, and once for ratios. For example, IntField.(+) should not be directly defined as Stdlib.(+); \n",
    "rather, it should be reused from elsewhere. By \"directly defined\" we mean a definition of the form let name = .... \n",
    "An indirect definition would be one that results from an include or a functor application.\n",
    "\n",
    "The rational structures can both be produced by a single functor that is applied once to IntField and once to FloatField.\n",
    "\n",
    "It's possible to eliminate all duplication of of_int, such that it is directly defined exactly once, and all \n",
    "structures reuse that definition; and such that it is directly declared in only one signature. This will require \n",
    "the use of functors. It will also require inventing an algorithm that can convert an integer to an arbitrary Ring \n",
    "representation, regardless of what the representation type of that Ring is.\n",
    "\n",
    "When you're done, the types of all the modules should remain unchanged. You can easily see those types by running \n",
    "ocamlc -i algebra.ml, which will originally output the following:\n",
    "\n",
    "module type Ring =\n",
    "  sig\n",
    "    type t\n",
    "    val zero : t\n",
    "    val one : t\n",
    "    val ( + ) : t -> t -> t\n",
    "    val ( ~- ) : t -> t\n",
    "    val ( * ) : t -> t -> t\n",
    "    val to_string : t -> string\n",
    "    val of_int : int -> t\n",
    "  end\n",
    "module type Field =\n",
    "  sig\n",
    "    type t\n",
    "    val zero : t\n",
    "    val one : t\n",
    "    val ( + ) : t -> t -> t\n",
    "    val ( ~- ) : t -> t\n",
    "    val ( * ) : t -> t -> t\n",
    "    val ( / ) : t -> t -> t\n",
    "    val to_string : t -> string\n",
    "    val of_int : int -> t\n",
    "  end\n",
    "module IntRing : Ring\n",
    "module IntField : Field\n",
    "module FloatRing : Ring\n",
    "module FloatField : Field\n",
    "module IntRational : Field\n",
    "module FloatRational : Field\n",
    "The final output of that command on your solution might define additional types, but the ones above should remain \n",
    "literally identical. *)"
   ]
  },
  {
   "cell_type": "code",
   "execution_count": null,
   "metadata": {},
   "outputs": [],
   "source": []
  }
 ],
 "metadata": {
  "kernelspec": {
   "display_name": "OCaml default",
   "language": "OCaml",
   "name": "ocaml-jupyter"
  },
  "language_info": {
   "codemirror_mode": "text/x-ocaml",
   "file_extension": ".ml",
   "mimetype": "text/x-ocaml",
   "name": "OCaml",
   "nbconverter_exporter": null,
   "pygments_lexer": "OCaml",
   "version": "4.08.1"
  }
 },
 "nbformat": 4,
 "nbformat_minor": 4
}
