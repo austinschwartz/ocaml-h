{
 "cells": [
  {
   "cell_type": "markdown",
   "metadata": {},
   "source": [
    "1. Compare and constrast OCaml's 'a list with Java's LinkedList<E>. Focus on the types, especially how you create and access values of each type.\n",
    "    \n",
    "Answer: Idiomatic Ocaml suggests using pattern matching to deal with lists, explicitly checking against empty list + deconstructed h::t. Not doing this and instead using List.hd and List.tl will throw an exception when you access empty list, same as Java. Also, LinkedList is mutable in java but immutable in Ocaml.\n"
   ]
  },
  {
   "cell_type": "markdown",
   "metadata": {},
   "source": [
    "2. Explain how Java references are similar to OCaml options. Focus on how you would access the contents of an option vs. a reference, and what exceptions could be raised.\n",
    "\n",
    "Answer: Ocaml options are same as java Optional. Optional forces you to check for none/null vs using a reference does not and can lead to calling methods on a null object which throws exceptions :( or in objc/smalltalk passing messages to a nil object causes nothing to happen and no error thrown cause those languages are fucking trash."
   ]
  },
  {
   "cell_type": "markdown",
   "metadata": {},
   "source": [
    "3. Do the exercises named quadrant, depth, shape, and list max exn.\n"
   ]
  },
  {
   "cell_type": "code",
   "execution_count": 25,
   "metadata": {},
   "outputs": [
    {
     "data": {
      "text/plain": [
       "type quad = I | II | III | IV\n"
      ]
     },
     "execution_count": 25,
     "metadata": {},
     "output_type": "execute_result"
    },
    {
     "data": {
      "text/plain": [
       "type sign = Neg | Zero | Pos\n"
      ]
     },
     "execution_count": 25,
     "metadata": {},
     "output_type": "execute_result"
    },
    {
     "data": {
      "text/plain": [
       "val sign : int -> sign = <fun>\n"
      ]
     },
     "execution_count": 25,
     "metadata": {},
     "output_type": "execute_result"
    },
    {
     "data": {
      "text/plain": [
       "- : sign = Neg\n"
      ]
     },
     "execution_count": 25,
     "metadata": {},
     "output_type": "execute_result"
    },
    {
     "data": {
      "text/plain": [
       "val quadrant : int * int -> quad option = <fun>\n"
      ]
     },
     "execution_count": 25,
     "metadata": {},
     "output_type": "execute_result"
    },
    {
     "data": {
      "text/plain": [
       "- : quad option = Some IV\n"
      ]
     },
     "execution_count": 25,
     "metadata": {},
     "output_type": "execute_result"
    }
   ],
   "source": [
    "(* quadrant *)\n",
    "\n",
    "(*\n",
    "Exercise: quadrant [✭✭]\n",
    "Quadrant 1: x, and y both positive. Quadrant 2: x negative, y positive. \n",
    "Quadrant 3: both x and y negative. Quadrant 4: x positive, y negative.\n",
    "\n",
    "Complete the quadrant function below, which should return the quadrant of \n",
    "the given x, y point according to the diagram on the right (borrowed from Wikipedia). \n",
    "Points that lie on an axis do not belong to any quandrant. \n",
    "Hints: (a) define a helper function for the sign of an integer, (b) match against a pair.\n",
    "    *)\n",
    "\n",
    "type quad = I | II | III | IV\n",
    "type sign = Neg | Zero | Pos\n",
    "\n",
    "let sign (x:int) : sign = \n",
    "  if x = 0 then Zero else\n",
    "  if x < 0 then Neg else\n",
    "  Pos;;\n",
    "\n",
    "sign ~-1\n",
    "\n",
    "let quadrant : int*int -> quad option = fun (x,y) ->\n",
    "  match (sign x, sign y) with\n",
    "    | Pos, Pos -> Some I\n",
    "    | Pos, Neg -> Some II\n",
    "    | Neg, Neg -> Some III\n",
    "    | Neg, Pos -> Some IV\n",
    "    | _ -> None;;\n",
    "\n",
    "quadrant (-1,2);;"
   ]
  },
  {
   "cell_type": "code",
   "execution_count": 42,
   "metadata": {},
   "outputs": [
    {
     "data": {
      "text/plain": [
       "type 'a tree = Leaf | Node of 'a * 'a tree * 'a tree\n"
      ]
     },
     "execution_count": 42,
     "metadata": {},
     "output_type": "execute_result"
    },
    {
     "data": {
      "text/plain": [
       "val depth : 'a tree -> int = <fun>\n"
      ]
     },
     "execution_count": 42,
     "metadata": {},
     "output_type": "execute_result"
    },
    {
     "data": {
      "text/plain": [
       "val t : int tree =\n",
       "  Node (4, Node (2, Leaf, Leaf), Node (5, Node (6, Leaf, Leaf), Leaf))\n"
      ]
     },
     "execution_count": 42,
     "metadata": {},
     "output_type": "execute_result"
    },
    {
     "data": {
      "text/plain": [
       "- : int = 3\n"
      ]
     },
     "execution_count": 42,
     "metadata": {},
     "output_type": "execute_result"
    }
   ],
   "source": [
    "(* depth *)\n",
    "(* Write a function depth : 'a tree -> int that returns the number \n",
    "of nodes in any longest path from the root to a leaf. For example, \n",
    "the depth of an empty tree (simply Leaf) is 0, and the depth of tree \n",
    "t above is 3. Hint: there is a library function max : 'a -> 'a -> 'a \n",
    "that returns the maximum of any two values of the same type.\n",
    "*)\n",
    "\n",
    "type 'a tree = \n",
    "    | Leaf \n",
    "    | Node of 'a * 'a tree * 'a tree\n",
    "    \n",
    "let rec depth node =\n",
    "    match node with\n",
    "    | Leaf -> 0\n",
    "    | Node(_, l, r) -> 1 + max (depth(l)) (depth(r))\n",
    ";;\n",
    "    \n",
    "(* the code below constructs this tree:\n",
    "         4\n",
    "       /   \\\n",
    "      2     5\n",
    "           /\n",
    "          6\n",
    "*)\n",
    "let t = \n",
    "  Node(4,\n",
    "    Node(2, Leaf, Leaf),\n",
    "    Node(5,\n",
    "      Node(6,Leaf,Leaf),\n",
    "      Leaf\n",
    "    )\n",
    "  );;\n",
    "\n",
    "depth t;;"
   ]
  },
  {
   "cell_type": "code",
   "execution_count": 92,
   "metadata": {},
   "outputs": [
    {
     "data": {
      "text/plain": [
       "type 'a tree = Leaf | Node of 'a * 'a tree * 'a tree\n"
      ]
     },
     "execution_count": 92,
     "metadata": {},
     "output_type": "execute_result"
    },
    {
     "data": {
      "text/plain": [
       "val shape : 'a tree -> 'b tree -> bool = <fun>\n"
      ]
     },
     "execution_count": 92,
     "metadata": {},
     "output_type": "execute_result"
    },
    {
     "data": {
      "text/plain": [
       "val a : int tree =\n",
       "  Node (4, Node (2, Leaf, Leaf), Node (5, Node (6, Leaf, Leaf), Leaf))\n"
      ]
     },
     "execution_count": 92,
     "metadata": {},
     "output_type": "execute_result"
    },
    {
     "data": {
      "text/plain": [
       "val b : int tree =\n",
       "  Node (1, Node (6, Leaf, Leaf), Node (4, Node (3, Leaf, Leaf), Leaf))\n"
      ]
     },
     "execution_count": 92,
     "metadata": {},
     "output_type": "execute_result"
    },
    {
     "data": {
      "text/plain": [
       "val c : int tree = Node (3, Node (6, Leaf, Leaf), Leaf)\n"
      ]
     },
     "execution_count": 92,
     "metadata": {},
     "output_type": "execute_result"
    },
    {
     "data": {
      "text/plain": [
       "- : bool = true\n"
      ]
     },
     "execution_count": 92,
     "metadata": {},
     "output_type": "execute_result"
    },
    {
     "data": {
      "text/plain": [
       "- : bool = false\n"
      ]
     },
     "execution_count": 92,
     "metadata": {},
     "output_type": "execute_result"
    },
    {
     "data": {
      "text/plain": [
       "- : bool = false\n"
      ]
     },
     "execution_count": 92,
     "metadata": {},
     "output_type": "execute_result"
    }
   ],
   "source": [
    "(* shape *)\n",
    "(* Write a function same_shape : 'a tree -> 'b tree -> bool that determines \n",
    "whether two trees have the same shape, regardless of whether the values they carry at each node are the same. \n",
    "Hint: use a pattern match with three branches, where the expression being matched is a pair of trees. *)\n",
    "\n",
    "type 'a tree = \n",
    "    | Leaf \n",
    "    | Node of 'a * 'a tree * 'a tree\n",
    "    \n",
    "    \n",
    "let rec shape t1 t2 = \n",
    "    match t1, t2 with\n",
    "    | Leaf, Leaf -> true\n",
    "    | Node(_,l1,r1), Node(_,l2,r2) -> shape l1 l2 && shape r1 r2\n",
    "    | _ -> false\n",
    "    ;;\n",
    "    \n",
    "(*  in python\n",
    "def shape(t1,t2):\n",
    "    if t1 == None and t2 == None:\n",
    "        return true\n",
    "    return t1 != None and t2 != None and shape(t1.left, t2.left) and shape(t1.right, t2.right) *)\n",
    "    \n",
    "    \n",
    "(* the code below constructs this tree:\n",
    "         4\n",
    "       /   \\\n",
    "      2     5\n",
    "           /\n",
    "          6\n",
    "*)\n",
    "let a = \n",
    "  Node(4,\n",
    "    Node(2, Leaf, Leaf),\n",
    "    Node(5,\n",
    "      Node(6,Leaf,Leaf),\n",
    "      Leaf\n",
    "    )\n",
    "  );;\n",
    "  \n",
    "let b = \n",
    "  Node(1,\n",
    "    Node(6, Leaf, Leaf),\n",
    "    Node(4,\n",
    "      Node(3,Leaf,Leaf),\n",
    "      Leaf\n",
    "    )\n",
    "  );;\n",
    "\n",
    "let c = Node(3, Node(6, Leaf, Leaf), Leaf);;\n",
    "\n",
    "shape a b;;\n",
    "shape a c;;\n",
    "shape b c;;"
   ]
  },
  {
   "cell_type": "code",
   "execution_count": 52,
   "metadata": {},
   "outputs": [
    {
     "data": {
      "text/plain": [
       "val list_max : int list -> int = <fun>\n"
      ]
     },
     "execution_count": 52,
     "metadata": {},
     "output_type": "execute_result"
    },
    {
     "data": {
      "text/plain": [
       "- : int = 5\n"
      ]
     },
     "execution_count": 52,
     "metadata": {},
     "output_type": "execute_result"
    },
    {
     "ename": "error",
     "evalue": "runtime_error",
     "output_type": "error",
     "traceback": [
      "\u001b[31mException: Failure \"list_max\".\nRaised at file \"[52]\", line 6, characters 38-58\nCalled from file \"toplevel/toploop.ml\", line 208, characters 17-27\n\u001b[0m"
     ]
    }
   ],
   "source": [
    "(* list max exn *)\n",
    "(* Write a function list_max : int list -> int that \n",
    "returns the maximum integer in a list, or raises Failure \"list_max\" if the list is empty. *)\n",
    "\n",
    "let list_max lst =\n",
    "    if List.length lst = 0 then raise (Failure \"list_max\") else\n",
    "    let rec list_max_help lst =\n",
    "        match lst with\n",
    "        | [] -> 0\n",
    "        | h::t -> max h (list_max_help t) in\n",
    "    list_max_help lst;;\n",
    "    \n",
    "list_max [1; 5; 3;];;\n",
    "list_max [];;"
   ]
  },
  {
   "cell_type": "markdown",
   "metadata": {},
   "source": [
    "4. For extra challenge, do quadrant when, quadrant poly, and is_bst. The last is especially tricky.\n"
   ]
  },
  {
   "cell_type": "code",
   "execution_count": 95,
   "metadata": {},
   "outputs": [
    {
     "data": {
      "text/plain": [
       "type quad = I | II | III | IV\n"
      ]
     },
     "execution_count": 95,
     "metadata": {},
     "output_type": "execute_result"
    },
    {
     "data": {
      "text/plain": [
       "val quadrant_when : int * int -> quad option = <fun>\n"
      ]
     },
     "execution_count": 95,
     "metadata": {},
     "output_type": "execute_result"
    },
    {
     "data": {
      "text/plain": [
       "- : quad/2 option = Some IV\n"
      ]
     },
     "execution_count": 95,
     "metadata": {},
     "output_type": "execute_result"
    },
    {
     "data": {
      "text/plain": [
       "- : quad/2 option = None\n"
      ]
     },
     "execution_count": 95,
     "metadata": {},
     "output_type": "execute_result"
    }
   ],
   "source": [
    "(* quadrant when *)\n",
    "(* Rewrite the quadrant function to use the when syntax. You won't need your helper function from before. *)\n",
    "\n",
    "type quad = I | II | III | IV\n",
    "\n",
    "let quadrant_when : int*int -> quad option = function\n",
    "    | (x, y) when x > 0 && y > 0 -> Some I\n",
    "    | (x, y) when x > 0 && y < 0 -> Some II\n",
    "    | (x, y) when x < 0 && y < 0 -> Some III\n",
    "    | (x, y) when x < 0 && y > 0 -> Some IV\n",
    "    | _ -> None;;\n",
    "    \n",
    "quadrant (-1,2);;\n",
    "quadrant (0, 0);;"
   ]
  },
  {
   "cell_type": "code",
   "execution_count": 151,
   "metadata": {},
   "outputs": [
    {
     "data": {
      "text/plain": [
       "val sign : int -> [> `Neg | `Pos | `Zero ] = <fun>\n"
      ]
     },
     "execution_count": 151,
     "metadata": {},
     "output_type": "execute_result"
    },
    {
     "data": {
      "text/plain": [
       "- : [> `Neg | `Pos | `Zero ] = `Neg\n"
      ]
     },
     "execution_count": 151,
     "metadata": {},
     "output_type": "execute_result"
    },
    {
     "data": {
      "text/plain": [
       "- : [> `Neg | `Pos | `Zero ] = `Pos\n"
      ]
     },
     "execution_count": 151,
     "metadata": {},
     "output_type": "execute_result"
    },
    {
     "data": {
      "text/plain": [
       "val quadrant : int * int -> [> `I | `II | `III | `IV ] option = <fun>\n"
      ]
     },
     "execution_count": 151,
     "metadata": {},
     "output_type": "execute_result"
    },
    {
     "data": {
      "text/plain": [
       "- : [> `I | `II | `III | `IV ] option = Some `IV\n"
      ]
     },
     "execution_count": 151,
     "metadata": {},
     "output_type": "execute_result"
    },
    {
     "data": {
      "text/plain": [
       "- : [> `I | `II | `III | `IV ] option = Some `III\n"
      ]
     },
     "execution_count": 151,
     "metadata": {},
     "output_type": "execute_result"
    }
   ],
   "source": [
    "(* quadrant poly *)\n",
    "(*\n",
    "Modify your definition of quadrant to use polymorphic variants. The types of your functions should become these:\n",
    "\n",
    "val sign : int -> [> `Neg | `Pos | `Zero ]\n",
    "val quadrant : int * int -> [> `I | `II | `III | `IV ] option\n",
    "*)\n",
    "\n",
    "let sign x = \n",
    "  if x = 0 then `Zero else\n",
    "  if x < 0 then `Neg else\n",
    "  `Pos;;\n",
    "\n",
    "sign ~-1;;\n",
    "sign 1;;\n",
    "\n",
    "let quadrant (x, y:int*int)  =\n",
    "  match (sign x, sign y) with\n",
    "    | `Pos, `Pos -> Some `I\n",
    "    | `Pos, `Neg -> Some `II\n",
    "    | `Neg, `Neg -> Some `III\n",
    "    | `Neg, `Pos -> Some `IV\n",
    "    | _ -> None;;\n",
    "\n",
    "quadrant (-1, 2) ;;\n",
    "quadrant (-1, -1) ;;\n"
   ]
  },
  {
   "cell_type": "code",
   "execution_count": 33,
   "metadata": {
    "scrolled": true
   },
   "outputs": [
    {
     "data": {
      "text/plain": [
       "type 'a tree = Leaf | Node of 'a * 'a tree * 'a tree\n"
      ]
     },
     "execution_count": 33,
     "metadata": {},
     "output_type": "execute_result"
    },
    {
     "data": {
      "text/plain": [
       "val a : int tree =\n",
       "  Node (4, Node (2, Leaf, Leaf), Node (5, Node (6, Leaf, Leaf), Leaf))\n"
      ]
     },
     "execution_count": 33,
     "metadata": {},
     "output_type": "execute_result"
    },
    {
     "data": {
      "text/plain": [
       "val b : int tree =\n",
       "  Node (4, Node (2, Leaf, Leaf), Node (5, Leaf, Node (6, Leaf, Leaf)))\n"
      ]
     },
     "execution_count": 33,
     "metadata": {},
     "output_type": "execute_result"
    },
    {
     "data": {
      "text/plain": [
       "val tree_max : int tree -> int = <fun>\n"
      ]
     },
     "execution_count": 33,
     "metadata": {},
     "output_type": "execute_result"
    },
    {
     "data": {
      "text/plain": [
       "val tree_min : int tree -> int = <fun>\n"
      ]
     },
     "execution_count": 33,
     "metadata": {},
     "output_type": "execute_result"
    },
    {
     "data": {
      "text/plain": [
       "- : int = 6\n"
      ]
     },
     "execution_count": 33,
     "metadata": {},
     "output_type": "execute_result"
    },
    {
     "data": {
      "text/plain": [
       "- : int = 2\n"
      ]
     },
     "execution_count": 33,
     "metadata": {},
     "output_type": "execute_result"
    },
    {
     "data": {
      "text/plain": [
       "val is_bst : int tree -> bool = <fun>\n"
      ]
     },
     "execution_count": 33,
     "metadata": {},
     "output_type": "execute_result"
    },
    {
     "data": {
      "text/plain": [
       "- : bool = false\n"
      ]
     },
     "execution_count": 33,
     "metadata": {},
     "output_type": "execute_result"
    },
    {
     "data": {
      "text/plain": [
       "- : bool = true\n"
      ]
     },
     "execution_count": 33,
     "metadata": {},
     "output_type": "execute_result"
    },
    {
     "data": {
      "text/plain": [
       "- : bool = true\n"
      ]
     },
     "execution_count": 33,
     "metadata": {},
     "output_type": "execute_result"
    },
    {
     "data": {
      "text/plain": [
       "val is_bst2 : int tree -> bool = <fun>\n"
      ]
     },
     "execution_count": 33,
     "metadata": {},
     "output_type": "execute_result"
    },
    {
     "data": {
      "text/plain": [
       "- : bool = false\n"
      ]
     },
     "execution_count": 33,
     "metadata": {},
     "output_type": "execute_result"
    },
    {
     "data": {
      "text/plain": [
       "- : bool = true\n"
      ]
     },
     "execution_count": 33,
     "metadata": {},
     "output_type": "execute_result"
    },
    {
     "data": {
      "text/plain": [
       "- : bool = true\n"
      ]
     },
     "execution_count": 33,
     "metadata": {},
     "output_type": "execute_result"
    }
   ],
   "source": [
    "(* is_bst *)\n",
    "(* Write a function is_bst : ('a*'b) tree -> bool that returns \n",
    "true if and only if the given tree satisfies the binary search \n",
    "tree invariant. An efficient version of this function that visits \n",
    "each node at most once is somewhat tricky to write. \n",
    "\n",
    "Hint: write a recursive helper function that takes a tree and either gives you (i) \n",
    "the minimum and maximum value in the tree, or (ii) tells you that the \n",
    "tree is empty, or (iii) tells you that the tree does not satisfy the \n",
    "invariant. Your is_bst function will not be recursive, but will call \n",
    "your helper function and pattern match on the result. \n",
    "You will need to define a new variant type for the return type of your helper function. *)\n",
    "\n",
    "\n",
    "type 'a tree = \n",
    "    | Leaf \n",
    "    | Node of 'a * 'a tree * 'a tree\n",
    "    \n",
    "(* the code below constructs this tree:\n",
    "         4\n",
    "       /   \\\n",
    "      2     5\n",
    "           /\n",
    "          6\n",
    "*)\n",
    "let a = \n",
    "  Node(4,\n",
    "    Node(2, Leaf, Leaf),\n",
    "    Node(5,\n",
    "      Node(6,Leaf,Leaf),\n",
    "      Leaf\n",
    "    )\n",
    "  );;\n",
    "  \n",
    "(* the code below constructs this tree:\n",
    "         4\n",
    "       /   \\\n",
    "      2     5\n",
    "             \\\n",
    "              6\n",
    "*)\n",
    "let b = \n",
    "  Node(4,\n",
    "    Node(2, Leaf, Leaf),\n",
    "    Node(5,\n",
    "      Leaf,\n",
    "      Node(6,Leaf,Leaf)\n",
    "    )\n",
    "  );;\n",
    "    \n",
    "let rec tree_max tree =\n",
    "    match tree with\n",
    "    | Leaf -> 0\n",
    "    | Node(v, l, r) -> max v (max (tree_max l) (tree_max r))\n",
    ";;\n",
    "    \n",
    "let rec tree_min tree =\n",
    "    match tree with\n",
    "    | Leaf -> 100000000\n",
    "    | Node(v, l, r) -> min v (min (tree_min l) (tree_min r))\n",
    ";;\n",
    "    \n",
    "tree_max a;;\n",
    "tree_min a;;\n",
    "\n",
    "(* O(n^2) *)\n",
    "let rec is_bst tree =\n",
    "    match tree with\n",
    "    | Leaf -> true\n",
    "    | Node(v, l, r) -> tree_max l <= v && tree_min r >= v &&(is_bst l) && (is_bst r)\n",
    ";;\n",
    "    \n",
    "is_bst a;;\n",
    "is_bst b;;\n",
    "is_bst Leaf;;\n",
    "\n",
    "\n",
    "(* O(n) *)\n",
    "let is_bst2 tree =\n",
    "    let rec is_bst_helper tree (mi: int) (ma:int) =\n",
    "        match tree with\n",
    "        | Node(v, l, r) when v < mi || v > ma -> false\n",
    "        | Node(v, l, r) -> is_bst_helper l mi (v - 1) && \n",
    "                           is_bst_helper r (v + 1) ma\n",
    "        | _ -> true\n",
    "    in is_bst_helper tree 0 10000000\n",
    ";;\n",
    "    \n",
    "is_bst2 a;;\n",
    "is_bst2 b;;\n",
    "is_bst2 Leaf;;"
   ]
  }
 ],
 "metadata": {
  "kernelspec": {
   "display_name": "OCaml default",
   "language": "OCaml",
   "name": "ocaml-jupyter"
  },
  "language_info": {
   "codemirror_mode": "text/x-ocaml",
   "file_extension": ".ml",
   "mimetype": "text/x-ocaml",
   "name": "OCaml",
   "nbconverter_exporter": null,
   "pygments_lexer": "OCaml",
   "version": "4.08.1"
  }
 },
 "nbformat": 4,
 "nbformat_minor": 4
}
